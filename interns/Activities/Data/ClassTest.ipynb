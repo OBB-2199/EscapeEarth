{
 "cells": [
  {
   "cell_type": "code",
   "execution_count": null,
   "metadata": {
    "colab": {
     "base_uri": "https://localhost:8080/"
    },
    "id": "NTjCK2K2Icse",
    "outputId": "9d06e6bd-3b52-489e-b6fa-38453d2a3b7e"
   },
   "outputs": [],
   "source": [
    "## mount google drive to access files\n",
    "\n",
    "from google.colab import drive\n",
    "drive.mount('/content/gdrive')\n"
   ]
  },
  {
   "cell_type": "code",
   "execution_count": null,
   "metadata": {
    "colab": {
     "base_uri": "https://localhost:8080/"
    },
    "id": "eTmxMVdHIt09",
    "outputId": "35e04f85-8116-4daf-81a5-6b5c76ca4edd"
   },
   "outputs": [],
   "source": [
    "## typical imports\n",
    "\n",
    "!pip install lightkurve #b/c non-standard library\n",
    "import lightkurve as lk\n",
    "import numpy as np\n",
    "import pandas as pd"
   ]
  },
  {
   "cell_type": "code",
   "execution_count": null,
   "metadata": {
    "id": "6461gpfCXyD1"
   },
   "outputs": [],
   "source": [
    "## import our custom modules\n",
    "\n",
    "import sys\n",
    "sys.path.append('/content/gdrive/My Drive/EscapeEarthData/')\n",
    "import OpenAndPlot as op"
   ]
  },
  {
   "cell_type": "code",
   "execution_count": null,
   "metadata": {
    "colab": {
     "base_uri": "https://localhost:8080/",
     "height": 447
    },
    "id": "SR_pIm8-Xx2h",
    "outputId": "944cde85-1d19-4634-be09-c756c1e6c911"
   },
   "outputs": [],
   "source": [
    "## get target info\n",
    "\n",
    "target_list14 =  pd.read_csv('/content/gdrive/My Drive/EscapeEarthData/all_targets_S014_v1.csv',skiprows=5) #from sector 14\n",
    "target_list14"
   ]
  },
  {
   "cell_type": "markdown",
   "metadata": {
    "id": "LsgUC9-MMPkx"
   },
   "source": [
    "# Initiate our custom class\n",
    "\n",
    "\n",
    "---\n",
    "\n",
    "\n",
    "\n",
    "---\n",
    "\n"
   ]
  },
  {
   "cell_type": "code",
   "execution_count": null,
   "metadata": {
    "colab": {
     "base_uri": "https://localhost:8080/"
    },
    "id": "XzUGj6lKZA44",
    "outputId": "abc29e6e-282f-4469-a96b-e0caf35daf4d"
   },
   "outputs": [],
   "source": [
    "## start using our custom class\n",
    "\n",
    "#format our target info for the class\n",
    "target_id = 7582633 \n",
    "target_sector = 14\n",
    "first_star = [target_id,target_sector]\n",
    "\n",
    "#initiate a class with our data\n",
    "first_target = op.OpenAndPlot(first_star)\n",
    "\n",
    "#check class representation of target\n",
    "print( first_target, '\\n', type(first_target) ) "
   ]
  },
  {
   "cell_type": "markdown",
   "metadata": {
    "id": "hK-R46naMVIf"
   },
   "source": [
    "# Test custom class attributes"
   ]
  },
  {
   "cell_type": "code",
   "execution_count": null,
   "metadata": {
    "colab": {
     "base_uri": "https://localhost:8080/"
    },
    "id": "EO10zF2_aRtO",
    "outputId": "b03c7e12-643e-43fc-fc91-1851bf2265fb"
   },
   "outputs": [],
   "source": [
    "## test a few class attributes\n",
    "\n",
    "first_target.targetid, first_target.sector #,first_target.telescope"
   ]
  },
  {
   "cell_type": "markdown",
   "metadata": {
    "id": "vRooYgUMMYyZ"
   },
   "source": [
    "# Test custom class methods"
   ]
  },
  {
   "cell_type": "code",
   "execution_count": null,
   "metadata": {
    "colab": {
     "base_uri": "https://localhost:8080/"
    },
    "id": "rXXgSel1aico",
    "outputId": "b52e1600-daed-4da9-fe13-7870ae79ed67"
   },
   "outputs": [],
   "source": [
    "## use custom class methods to open target data\n",
    "\n",
    "lc = first_target.open_clean_lc()\n",
    "print( lc, '\\n', type(lc) ) "
   ]
  },
  {
   "cell_type": "markdown",
   "metadata": {
    "id": "qwJ5t5lwLHAN"
   },
   "source": [
    "Notice the above object type that prints is a lightkurve class object - specifically a TessLightCurve object within the LightKurve class library. Let's get sidetracked to explore that in the next cell"
   ]
  },
  {
   "cell_type": "code",
   "execution_count": null,
   "metadata": {
    "colab": {
     "base_uri": "https://localhost:8080/",
     "height": 460
    },
    "id": "S98sjs2TgdCH",
    "outputId": "029ffa74-5568-4b73-fbe0-e804abe29748"
   },
   "outputs": [],
   "source": [
    "## check lightKurve class attributes\n",
    "\n",
    "print( 'Flux array:', lc.flux, '\\nTime array:', lc.time )\n",
    "\n",
    "lc.scatter();"
   ]
  },
  {
   "cell_type": "code",
   "execution_count": null,
   "metadata": {
    "colab": {
     "base_uri": "https://localhost:8080/"
    },
    "id": "AzZZA_lNF82Q",
    "outputId": "e874332b-5762-456c-acc8-17d1b0f5fd67"
   },
   "outputs": [],
   "source": [
    "## test another custom class method to open data\n",
    "\n",
    "first_data = first_target.open_lc(stage='clean') #opens data with our function\n",
    "\n",
    "print( first_data, '\\nFlux array:', first_data.flux, '\\nTime array:', first_data.time ) #use lk class attributes to explore data"
   ]
  },
  {
   "cell_type": "code",
   "execution_count": null,
   "metadata": {
    "colab": {
     "base_uri": "https://localhost:8080/",
     "height": 407
    },
    "id": "zhAPmf6xbka9",
    "outputId": "050134ff-825c-4d58-e382-ce671520cb05"
   },
   "outputs": [],
   "source": [
    "## test custom class method to plot cleaned data\n",
    "\n",
    "plot = first_target.plot_cleaned_lc()"
   ]
  },
  {
   "cell_type": "code",
   "execution_count": null,
   "metadata": {
    "colab": {
     "base_uri": "https://localhost:8080/",
     "height": 407
    },
    "id": "p2i2NRWJNQbq",
    "outputId": "c9059bf8-7777-47fa-e333-3c2c7bb538ab"
   },
   "outputs": [],
   "source": [
    "## test custom class method to plot raw data\n",
    "\n",
    "first_target.plot_raw_data();"
   ]
  },
  {
   "cell_type": "markdown",
   "metadata": {
    "id": "rrQz2kuXNy2b"
   },
   "source": [
    "# Now try these out yourself with a second target. \n",
    "## Use the target 26489741 from Sector 15\n",
    "\n",
    "\n",
    "---\n",
    "\n",
    "\n",
    "\n",
    "---\n",
    "\n"
   ]
  },
  {
   "cell_type": "code",
   "execution_count": null,
   "metadata": {
    "id": "xtQ9ABMKNQWs"
   },
   "outputs": [],
   "source": [
    "#format our target info for the class\n",
    "target2_id = 26489741 \n",
    "target2_sector = 15\n",
    "second_star = [target2_id,target2_sector]\n",
    "\n",
    "#initiate a class with our data\n",
    "second_target = "
   ]
  },
  {
   "cell_type": "code",
   "execution_count": null,
   "metadata": {
    "id": "Fb3d7j-cXc80"
   },
   "outputs": [],
   "source": []
  }
 ],
 "metadata": {
  "colab": {
   "name": "ClassTest.ipynb",
   "provenance": []
  },
  "kernelspec": {
   "display_name": "Python 3",
   "language": "python",
   "name": "python3"
  },
  "language_info": {
   "codemirror_mode": {
    "name": "ipython",
    "version": 3
   },
   "file_extension": ".py",
   "mimetype": "text/x-python",
   "name": "python",
   "nbconvert_exporter": "python",
   "pygments_lexer": "ipython3",
   "version": "3.7.6"
  }
 },
 "nbformat": 4,
 "nbformat_minor": 1
}
