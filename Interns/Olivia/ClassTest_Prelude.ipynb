{
  "nbformat": 4,
  "nbformat_minor": 0,
  "metadata": {
    "colab": {
      "name": "ClassTest Prelude.ipynb",
      "provenance": [],
      "collapsed_sections": [],
      "authorship_tag": "ABX9TyObYaONrzdsDssrXlx4RjdE",
      "include_colab_link": true
    },
    "kernelspec": {
      "name": "python3",
      "display_name": "Python 3"
    }
  },
  "cells": [
    {
      "cell_type": "markdown",
      "metadata": {
        "id": "view-in-github",
        "colab_type": "text"
      },
      "source": [
        "<a href=\"https://colab.research.google.com/github/OBB-2199/EscapeEarth/blob/main/Interns/Olivia/ClassTest_Prelude.ipynb\" target=\"_parent\"><img src=\"https://colab.research.google.com/assets/colab-badge.svg\" alt=\"Open In Colab\"/></a>"
      ]
    },
    {
      "cell_type": "code",
      "metadata": {
        "colab": {
          "base_uri": "https://localhost:8080/"
        },
        "id": "lwT0TayhIgco",
        "outputId": "0c2982d0-326a-4d83-de36-d45255b1b62b"
      },
      "source": [
        "from google.colab import drive\n",
        "drive.mount('/content/gdrive')"
      ],
      "execution_count": null,
      "outputs": [
        {
          "output_type": "stream",
          "text": [
            "Mounted at /content/gdrive\n"
          ],
          "name": "stdout"
        }
      ]
    },
    {
      "cell_type": "code",
      "metadata": {
        "colab": {
          "base_uri": "https://localhost:8080/"
        },
        "id": "IIQu9usBIr9X",
        "outputId": "feacaefb-b837-4614-afdc-d343e9f330d3"
      },
      "source": [
        "!pip install lightkurve\n",
        "import lightkurve as lk\n",
        "import numpy as np\n",
        "import pandas as pd"
      ],
      "execution_count": null,
      "outputs": [
        {
          "output_type": "stream",
          "text": [
            "Collecting lightkurve\n",
            "\u001b[?25l  Downloading https://files.pythonhosted.org/packages/6b/cb/a2917205537f6bad53b109365e09abe946afbf5d8a4e1f46c3f75abcb398/lightkurve-1.11.3-py3-none-any.whl (515kB)\n",
            "\r\u001b[K     |▋                               | 10kB 14.9MB/s eta 0:00:01\r\u001b[K     |█▎                              | 20kB 19.7MB/s eta 0:00:01\r\u001b[K     |██                              | 30kB 24.3MB/s eta 0:00:01\r\u001b[K     |██▌                             | 40kB 14.4MB/s eta 0:00:01\r\u001b[K     |███▏                            | 51kB 9.5MB/s eta 0:00:01\r\u001b[K     |███▉                            | 61kB 10.6MB/s eta 0:00:01\r\u001b[K     |████▌                           | 71kB 9.4MB/s eta 0:00:01\r\u001b[K     |█████                           | 81kB 10.1MB/s eta 0:00:01\r\u001b[K     |█████▊                          | 92kB 9.9MB/s eta 0:00:01\r\u001b[K     |██████▍                         | 102kB 10.4MB/s eta 0:00:01\r\u001b[K     |███████                         | 112kB 10.4MB/s eta 0:00:01\r\u001b[K     |███████▋                        | 122kB 10.4MB/s eta 0:00:01\r\u001b[K     |████████▎                       | 133kB 10.4MB/s eta 0:00:01\r\u001b[K     |█████████                       | 143kB 10.4MB/s eta 0:00:01\r\u001b[K     |█████████▌                      | 153kB 10.4MB/s eta 0:00:01\r\u001b[K     |██████████▏                     | 163kB 10.4MB/s eta 0:00:01\r\u001b[K     |██████████▉                     | 174kB 10.4MB/s eta 0:00:01\r\u001b[K     |███████████▌                    | 184kB 10.4MB/s eta 0:00:01\r\u001b[K     |████████████                    | 194kB 10.4MB/s eta 0:00:01\r\u001b[K     |████████████▊                   | 204kB 10.4MB/s eta 0:00:01\r\u001b[K     |█████████████▍                  | 215kB 10.4MB/s eta 0:00:01\r\u001b[K     |██████████████                  | 225kB 10.4MB/s eta 0:00:01\r\u001b[K     |██████████████▋                 | 235kB 10.4MB/s eta 0:00:01\r\u001b[K     |███████████████▎                | 245kB 10.4MB/s eta 0:00:01\r\u001b[K     |████████████████                | 256kB 10.4MB/s eta 0:00:01\r\u001b[K     |████████████████▌               | 266kB 10.4MB/s eta 0:00:01\r\u001b[K     |█████████████████▏              | 276kB 10.4MB/s eta 0:00:01\r\u001b[K     |█████████████████▉              | 286kB 10.4MB/s eta 0:00:01\r\u001b[K     |██████████████████▌             | 296kB 10.4MB/s eta 0:00:01\r\u001b[K     |███████████████████             | 307kB 10.4MB/s eta 0:00:01\r\u001b[K     |███████████████████▊            | 317kB 10.4MB/s eta 0:00:01\r\u001b[K     |████████████████████▍           | 327kB 10.4MB/s eta 0:00:01\r\u001b[K     |█████████████████████           | 337kB 10.4MB/s eta 0:00:01\r\u001b[K     |█████████████████████▋          | 348kB 10.4MB/s eta 0:00:01\r\u001b[K     |██████████████████████▎         | 358kB 10.4MB/s eta 0:00:01\r\u001b[K     |███████████████████████         | 368kB 10.4MB/s eta 0:00:01\r\u001b[K     |███████████████████████▌        | 378kB 10.4MB/s eta 0:00:01\r\u001b[K     |████████████████████████▏       | 389kB 10.4MB/s eta 0:00:01\r\u001b[K     |████████████████████████▉       | 399kB 10.4MB/s eta 0:00:01\r\u001b[K     |█████████████████████████▌      | 409kB 10.4MB/s eta 0:00:01\r\u001b[K     |██████████████████████████      | 419kB 10.4MB/s eta 0:00:01\r\u001b[K     |██████████████████████████▊     | 430kB 10.4MB/s eta 0:00:01\r\u001b[K     |███████████████████████████▍    | 440kB 10.4MB/s eta 0:00:01\r\u001b[K     |████████████████████████████    | 450kB 10.4MB/s eta 0:00:01\r\u001b[K     |████████████████████████████▋   | 460kB 10.4MB/s eta 0:00:01\r\u001b[K     |█████████████████████████████▎  | 471kB 10.4MB/s eta 0:00:01\r\u001b[K     |██████████████████████████████  | 481kB 10.4MB/s eta 0:00:01\r\u001b[K     |██████████████████████████████▌ | 491kB 10.4MB/s eta 0:00:01\r\u001b[K     |███████████████████████████████▏| 501kB 10.4MB/s eta 0:00:01\r\u001b[K     |███████████████████████████████▉| 512kB 10.4MB/s eta 0:00:01\r\u001b[K     |████████████████████████████████| 522kB 10.4MB/s \n",
            "\u001b[?25hCollecting oktopus\n",
            "  Downloading https://files.pythonhosted.org/packages/2d/6e/7b7e11442ff70286c22614d200f6145f83528dc6c99fec0982665e25c8d3/oktopus-0.1.2.tar.gz\n",
            "Requirement already satisfied: astropy>=1.3 in /usr/local/lib/python3.6/dist-packages (from lightkurve) (4.1)\n",
            "Requirement already satisfied: bs4 in /usr/local/lib/python3.6/dist-packages (from lightkurve) (0.0.1)\n",
            "Requirement already satisfied: requests in /usr/local/lib/python3.6/dist-packages (from lightkurve) (2.23.0)\n",
            "Requirement already satisfied: matplotlib>=1.5.3 in /usr/local/lib/python3.6/dist-packages (from lightkurve) (3.2.2)\n",
            "Requirement already satisfied: pandas in /usr/local/lib/python3.6/dist-packages (from lightkurve) (1.1.5)\n",
            "Requirement already satisfied: numpy>=1.11 in /usr/local/lib/python3.6/dist-packages (from lightkurve) (1.19.5)\n",
            "Collecting uncertainties\n",
            "\u001b[?25l  Downloading https://files.pythonhosted.org/packages/45/41/fc7e7b73b603e7c2c9e040b7aa8caf4a88d74b6faa567601ed82b6f0d8e1/uncertainties-3.1.5-py2.py3-none-any.whl (246kB)\n",
            "\u001b[K     |████████████████████████████████| 256kB 26.6MB/s \n",
            "\u001b[?25hRequirement already satisfied: patsy>=0.5.1 in /usr/local/lib/python3.6/dist-packages (from lightkurve) (0.5.1)\n",
            "Collecting fbpca>=1.0\n",
            "  Downloading https://files.pythonhosted.org/packages/a7/a5/2085d0645a4bb4f0b606251b0b7466c61326e4a471d445c1c3761a2d07bc/fbpca-1.0.tar.gz\n",
            "Collecting scipy!=1.4.0,!=1.4.1,>=0.19.0\n",
            "\u001b[?25l  Downloading https://files.pythonhosted.org/packages/c8/89/63171228d5ced148f5ced50305c89e8576ffc695a90b58fe5bb602b910c2/scipy-1.5.4-cp36-cp36m-manylinux1_x86_64.whl (25.9MB)\n",
            "\u001b[K     |████████████████████████████████| 25.9MB 155kB/s \n",
            "\u001b[?25hRequirement already satisfied: tqdm>=4.25.0 in /usr/local/lib/python3.6/dist-packages (from lightkurve) (4.41.1)\n",
            "Collecting astroquery>=0.3.9\n",
            "\u001b[?25l  Downloading https://files.pythonhosted.org/packages/1b/f8/4690523783691ed816b3469c3ec611af3798594d37ade510dd918d59f57e/astroquery-0.4.1.tar.gz (6.5MB)\n",
            "\u001b[K     |████████████████████████████████| 6.5MB 26.9MB/s \n",
            "\u001b[?25hRequirement already satisfied: autograd in /usr/local/lib/python3.6/dist-packages (from oktopus->lightkurve) (1.3)\n",
            "Requirement already satisfied: beautifulsoup4 in /usr/local/lib/python3.6/dist-packages (from bs4->lightkurve) (4.6.3)\n",
            "Requirement already satisfied: certifi>=2017.4.17 in /usr/local/lib/python3.6/dist-packages (from requests->lightkurve) (2020.12.5)\n",
            "Requirement already satisfied: urllib3!=1.25.0,!=1.25.1,<1.26,>=1.21.1 in /usr/local/lib/python3.6/dist-packages (from requests->lightkurve) (1.24.3)\n",
            "Requirement already satisfied: chardet<4,>=3.0.2 in /usr/local/lib/python3.6/dist-packages (from requests->lightkurve) (3.0.4)\n",
            "Requirement already satisfied: idna<3,>=2.5 in /usr/local/lib/python3.6/dist-packages (from requests->lightkurve) (2.10)\n",
            "Requirement already satisfied: kiwisolver>=1.0.1 in /usr/local/lib/python3.6/dist-packages (from matplotlib>=1.5.3->lightkurve) (1.3.1)\n",
            "Requirement already satisfied: python-dateutil>=2.1 in /usr/local/lib/python3.6/dist-packages (from matplotlib>=1.5.3->lightkurve) (2.8.1)\n",
            "Requirement already satisfied: cycler>=0.10 in /usr/local/lib/python3.6/dist-packages (from matplotlib>=1.5.3->lightkurve) (0.10.0)\n",
            "Requirement already satisfied: pyparsing!=2.0.4,!=2.1.2,!=2.1.6,>=2.0.1 in /usr/local/lib/python3.6/dist-packages (from matplotlib>=1.5.3->lightkurve) (2.4.7)\n",
            "Requirement already satisfied: pytz>=2017.2 in /usr/local/lib/python3.6/dist-packages (from pandas->lightkurve) (2018.9)\n",
            "Requirement already satisfied: future in /usr/local/lib/python3.6/dist-packages (from uncertainties->lightkurve) (0.16.0)\n",
            "Requirement already satisfied: six in /usr/local/lib/python3.6/dist-packages (from patsy>=0.5.1->lightkurve) (1.15.0)\n",
            "Collecting keyring>=4.0\n",
            "  Downloading https://files.pythonhosted.org/packages/d0/a0/20e656cd1e2313af619e382782bd47b5f77a3f33d81992554f3aac56e90d/keyring-21.8.0-py3-none-any.whl\n",
            "Requirement already satisfied: html5lib>=0.999 in /usr/local/lib/python3.6/dist-packages (from astroquery>=0.3.9->lightkurve) (1.0.1)\n",
            "Requirement already satisfied: importlib-metadata>=1; python_version < \"3.8\" in /usr/local/lib/python3.6/dist-packages (from keyring>=4.0->astroquery>=0.3.9->lightkurve) (3.3.0)\n",
            "Collecting jeepney>=0.4.2; sys_platform == \"linux\"\n",
            "\u001b[?25l  Downloading https://files.pythonhosted.org/packages/51/b0/a6ea72741aaac3f37fb96d195e4ee576a103c4c04e279bc6b446a70960e1/jeepney-0.6.0-py3-none-any.whl (45kB)\n",
            "\u001b[K     |████████████████████████████████| 51kB 5.6MB/s \n",
            "\u001b[?25hCollecting SecretStorage>=3.2; sys_platform == \"linux\"\n",
            "  Downloading https://files.pythonhosted.org/packages/63/a2/a6d9099b14eb5dbbb04fb722d2b5322688f8f99b471bdf2097e33efa8091/SecretStorage-3.3.0-py3-none-any.whl\n",
            "Requirement already satisfied: webencodings in /usr/local/lib/python3.6/dist-packages (from html5lib>=0.999->astroquery>=0.3.9->lightkurve) (0.5.1)\n",
            "Requirement already satisfied: typing-extensions>=3.6.4; python_version < \"3.8\" in /usr/local/lib/python3.6/dist-packages (from importlib-metadata>=1; python_version < \"3.8\"->keyring>=4.0->astroquery>=0.3.9->lightkurve) (3.7.4.3)\n",
            "Requirement already satisfied: zipp>=0.5 in /usr/local/lib/python3.6/dist-packages (from importlib-metadata>=1; python_version < \"3.8\"->keyring>=4.0->astroquery>=0.3.9->lightkurve) (3.4.0)\n",
            "Collecting cryptography>=2.0\n",
            "\u001b[?25l  Downloading https://files.pythonhosted.org/packages/c9/de/7054df0620b5411ba45480f0261e1fb66a53f3db31b28e3aa52c026e72d9/cryptography-3.3.1-cp36-abi3-manylinux2010_x86_64.whl (2.6MB)\n",
            "\u001b[K     |████████████████████████████████| 2.6MB 37.8MB/s \n",
            "\u001b[?25hRequirement already satisfied: cffi>=1.12 in /usr/local/lib/python3.6/dist-packages (from cryptography>=2.0->SecretStorage>=3.2; sys_platform == \"linux\"->keyring>=4.0->astroquery>=0.3.9->lightkurve) (1.14.4)\n",
            "Requirement already satisfied: pycparser in /usr/local/lib/python3.6/dist-packages (from cffi>=1.12->cryptography>=2.0->SecretStorage>=3.2; sys_platform == \"linux\"->keyring>=4.0->astroquery>=0.3.9->lightkurve) (2.20)\n",
            "Building wheels for collected packages: oktopus, fbpca, astroquery\n",
            "  Building wheel for oktopus (setup.py) ... \u001b[?25l\u001b[?25hdone\n",
            "  Created wheel for oktopus: filename=oktopus-0.1.2-cp36-none-any.whl size=12779 sha256=379cea0e763b5c75f24efa1d0d0d63f7ee770228b68fd74ce272a07c7adf506f\n",
            "  Stored in directory: /root/.cache/pip/wheels/9b/90/81/098fc66ee56166d63c9a8fc0a9672ae7b3423396a588ec952a\n",
            "  Building wheel for fbpca (setup.py) ... \u001b[?25l\u001b[?25hdone\n",
            "  Created wheel for fbpca: filename=fbpca-1.0-cp36-none-any.whl size=11377 sha256=b7d49a7d18bac531d4fdc63c3acf46ade2611d5863b38c9a47743bdb17b348e9\n",
            "  Stored in directory: /root/.cache/pip/wheels/53/a2/dd/9b66cf53dbc58cec1e613d216689e5fa946d3e7805c30f60dc\n",
            "  Building wheel for astroquery (setup.py) ... \u001b[?25l\u001b[?25hdone\n",
            "  Created wheel for astroquery: filename=astroquery-0.4.1-cp36-none-any.whl size=3831873 sha256=d21118251c04b7220f62ba74a135966c45566784610dcf41b483359df79ae319\n",
            "  Stored in directory: /root/.cache/pip/wheels/88/f8/b7/a254cd96e808f708bc0b7d755a8e095c56fbbe94099d7b464f\n",
            "Successfully built oktopus fbpca astroquery\n",
            "\u001b[31mERROR: albumentations 0.1.12 has requirement imgaug<0.2.7,>=0.2.5, but you'll have imgaug 0.2.9 which is incompatible.\u001b[0m\n",
            "Installing collected packages: scipy, oktopus, uncertainties, fbpca, jeepney, cryptography, SecretStorage, keyring, astroquery, lightkurve\n",
            "  Found existing installation: scipy 1.4.1\n",
            "    Uninstalling scipy-1.4.1:\n",
            "      Successfully uninstalled scipy-1.4.1\n",
            "Successfully installed SecretStorage-3.3.0 astroquery-0.4.1 cryptography-3.3.1 fbpca-1.0 jeepney-0.6.0 keyring-21.8.0 lightkurve-1.11.3 oktopus-0.1.2 scipy-1.5.4 uncertainties-3.1.5\n"
          ],
          "name": "stdout"
        }
      ]
    },
    {
      "cell_type": "code",
      "metadata": {
        "id": "eNYwdEidI0G9"
      },
      "source": [
        "import sys\n",
        "sys.path.append('/content/gdrive/My Drive/EscapeEarthData')"
      ],
      "execution_count": null,
      "outputs": []
    },
    {
      "cell_type": "code",
      "metadata": {
        "id": "CD44Fy5T5X1E"
      },
      "source": [
        "import OpenAndPlot as op"
      ],
      "execution_count": null,
      "outputs": []
    },
    {
      "cell_type": "code",
      "metadata": {
        "colab": {
          "base_uri": "https://localhost:8080/",
          "height": 419
        },
        "id": "NJQSqOgX5H7k",
        "outputId": "7ba90a2d-9392-4f26-dbf7-7bb6be9cc5fe"
      },
      "source": [
        "#get target ids\n",
        "target_list14 = pd.read_csv('/content/gdrive/My Drive/EscapeEarthData/all_targets_S014_v1.csv',skiprows=5)\n",
        "target_list14"
      ],
      "execution_count": null,
      "outputs": [
        {
          "output_type": "execute_result",
          "data": {
            "text/html": [
              "<div>\n",
              "<style scoped>\n",
              "    .dataframe tbody tr th:only-of-type {\n",
              "        vertical-align: middle;\n",
              "    }\n",
              "\n",
              "    .dataframe tbody tr th {\n",
              "        vertical-align: top;\n",
              "    }\n",
              "\n",
              "    .dataframe thead th {\n",
              "        text-align: right;\n",
              "    }\n",
              "</style>\n",
              "<table border=\"1\" class=\"dataframe\">\n",
              "  <thead>\n",
              "    <tr style=\"text-align: right;\">\n",
              "      <th></th>\n",
              "      <th>TICID</th>\n",
              "      <th>Camera</th>\n",
              "      <th>CCD</th>\n",
              "      <th>Tmag</th>\n",
              "      <th>RA</th>\n",
              "      <th>Dec</th>\n",
              "    </tr>\n",
              "  </thead>\n",
              "  <tbody>\n",
              "    <tr>\n",
              "      <th>0</th>\n",
              "      <td>7582594</td>\n",
              "      <td>2</td>\n",
              "      <td>3</td>\n",
              "      <td>8.57</td>\n",
              "      <td>272.3966</td>\n",
              "      <td>45.8308</td>\n",
              "    </tr>\n",
              "    <tr>\n",
              "      <th>1</th>\n",
              "      <td>7582633</td>\n",
              "      <td>2</td>\n",
              "      <td>3</td>\n",
              "      <td>9.92</td>\n",
              "      <td>272.3288</td>\n",
              "      <td>45.9244</td>\n",
              "    </tr>\n",
              "    <tr>\n",
              "      <th>2</th>\n",
              "      <td>7582634</td>\n",
              "      <td>2</td>\n",
              "      <td>3</td>\n",
              "      <td>10.48</td>\n",
              "      <td>272.3307</td>\n",
              "      <td>45.9255</td>\n",
              "    </tr>\n",
              "    <tr>\n",
              "      <th>3</th>\n",
              "      <td>7583285</td>\n",
              "      <td>2</td>\n",
              "      <td>2</td>\n",
              "      <td>11.30</td>\n",
              "      <td>272.3711</td>\n",
              "      <td>47.2259</td>\n",
              "    </tr>\n",
              "    <tr>\n",
              "      <th>4</th>\n",
              "      <td>7584049</td>\n",
              "      <td>2</td>\n",
              "      <td>2</td>\n",
              "      <td>8.50</td>\n",
              "      <td>272.5282</td>\n",
              "      <td>47.0887</td>\n",
              "    </tr>\n",
              "    <tr>\n",
              "      <th>...</th>\n",
              "      <td>...</td>\n",
              "      <td>...</td>\n",
              "      <td>...</td>\n",
              "      <td>...</td>\n",
              "      <td>...</td>\n",
              "      <td>...</td>\n",
              "    </tr>\n",
              "    <tr>\n",
              "      <th>19995</th>\n",
              "      <td>1980752885</td>\n",
              "      <td>2</td>\n",
              "      <td>1</td>\n",
              "      <td>16.91</td>\n",
              "      <td>303.1632</td>\n",
              "      <td>60.2862</td>\n",
              "    </tr>\n",
              "    <tr>\n",
              "      <th>19996</th>\n",
              "      <td>1980968952</td>\n",
              "      <td>2</td>\n",
              "      <td>1</td>\n",
              "      <td>8.65</td>\n",
              "      <td>301.3995</td>\n",
              "      <td>63.7061</td>\n",
              "    </tr>\n",
              "    <tr>\n",
              "      <th>19997</th>\n",
              "      <td>1980968953</td>\n",
              "      <td>2</td>\n",
              "      <td>1</td>\n",
              "      <td>8.76</td>\n",
              "      <td>301.3993</td>\n",
              "      <td>63.7056</td>\n",
              "    </tr>\n",
              "    <tr>\n",
              "      <th>19998</th>\n",
              "      <td>1981207128</td>\n",
              "      <td>2</td>\n",
              "      <td>1</td>\n",
              "      <td>7.88</td>\n",
              "      <td>300.4913</td>\n",
              "      <td>65.8903</td>\n",
              "    </tr>\n",
              "    <tr>\n",
              "      <th>19999</th>\n",
              "      <td>1981303680</td>\n",
              "      <td>3</td>\n",
              "      <td>2</td>\n",
              "      <td>8.20</td>\n",
              "      <td>300.3917</td>\n",
              "      <td>70.4546</td>\n",
              "    </tr>\n",
              "  </tbody>\n",
              "</table>\n",
              "<p>20000 rows × 6 columns</p>\n",
              "</div>"
            ],
            "text/plain": [
              "            TICID   Camera   CCD   Tmag        RA      Dec\n",
              "0         7582594        2     3   8.57  272.3966  45.8308\n",
              "1         7582633        2     3   9.92  272.3288  45.9244\n",
              "2         7582634        2     3  10.48  272.3307  45.9255\n",
              "3         7583285        2     2  11.30  272.3711  47.2259\n",
              "4         7584049        2     2   8.50  272.5282  47.0887\n",
              "...           ...      ...   ...    ...       ...      ...\n",
              "19995  1980752885        2     1  16.91  303.1632  60.2862\n",
              "19996  1980968952        2     1   8.65  301.3995  63.7061\n",
              "19997  1980968953        2     1   8.76  301.3993  63.7056\n",
              "19998  1981207128        2     1   7.88  300.4913  65.8903\n",
              "19999  1981303680        3     2   8.20  300.3917  70.4546\n",
              "\n",
              "[20000 rows x 6 columns]"
            ]
          },
          "metadata": {
            "tags": []
          },
          "execution_count": 8
        }
      ]
    },
    {
      "cell_type": "code",
      "metadata": {
        "id": "89jlYc526d6Z"
      },
      "source": [
        "#put into the class\n",
        "target_id = 7582594\n",
        "target_sector = 14\n",
        "first_data = [target_id, target_sector]\n",
        "first_target = op.OpenAndPlot(first_data)"
      ],
      "execution_count": null,
      "outputs": []
    },
    {
      "cell_type": "code",
      "metadata": {
        "colab": {
          "base_uri": "https://localhost:8080/"
        },
        "id": "EaOcT3P66-j9",
        "outputId": "af9590b8-6e1d-4ab4-aa98-a309050651b9"
      },
      "source": [
        "first_target.targetid, first_target.sector, first_target.telescope"
      ],
      "execution_count": null,
      "outputs": [
        {
          "output_type": "execute_result",
          "data": {
            "text/plain": [
              "(7582594, 14, 'TESS')"
            ]
          },
          "metadata": {
            "tags": []
          },
          "execution_count": 17
        }
      ]
    },
    {
      "cell_type": "code",
      "metadata": {
        "id": "tnX49fzc7FdH"
      },
      "source": [
        ""
      ],
      "execution_count": null,
      "outputs": []
    }
  ]
}