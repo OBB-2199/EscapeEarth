{
  "nbformat": 4,
  "nbformat_minor": 0,
  "metadata": {
    "colab": {
      "name": "Transit_Plot.ipynb",
      "provenance": [],
      "collapsed_sections": [],
      "authorship_tag": "ABX9TyOnUJvOj6xCKvnvTasgBRS4",
      "include_colab_link": true
    },
    "kernelspec": {
      "name": "python3",
      "display_name": "Python 3"
    }
  },
  "cells": [
    {
      "cell_type": "markdown",
      "metadata": {
        "id": "view-in-github",
        "colab_type": "text"
      },
      "source": [
        "<a href=\"https://colab.research.google.com/github/OBB-2199/EscapeEarth/blob/main/Interns/Olivia/Transit_Plot.ipynb\" target=\"_parent\"><img src=\"https://colab.research.google.com/assets/colab-badge.svg\" alt=\"Open In Colab\"/></a>"
      ]
    },
    {
      "cell_type": "code",
      "metadata": {
        "colab": {
          "base_uri": "https://localhost:8080/"
        },
        "id": "I6daLxmRQAoJ",
        "outputId": "49411aad-8a07-4b1e-c510-c2e62d5d4bd1"
      },
      "source": [
        "## mount google drive to access files\n",
        "\n",
        "from google.colab import drive\n",
        "drive.mount('/content/gdrive', force_remount=True)"
      ],
      "execution_count": null,
      "outputs": [
        {
          "output_type": "stream",
          "text": [
            "Mounted at /content/gdrive\n"
          ],
          "name": "stdout"
        }
      ]
    },
    {
      "cell_type": "code",
      "metadata": {
        "colab": {
          "base_uri": "https://localhost:8080/"
        },
        "id": "aXjhEjj1QAlT",
        "outputId": "e234acce-a8a9-4e66-c1d2-be68095329a0"
      },
      "source": [
        "## typical imports\n",
        "\n",
        "!pip install lightkurve #b/c non-standard library\n",
        "import lightkurve as lk\n",
        "import numpy as np\n",
        "import pandas as pd\n",
        "import matplotlib.pyplot as plt"
      ],
      "execution_count": null,
      "outputs": [
        {
          "output_type": "stream",
          "text": [
            "Requirement already satisfied: lightkurve in /usr/local/lib/python3.6/dist-packages (1.11.3)\n",
            "Requirement already satisfied: pandas in /usr/local/lib/python3.6/dist-packages (from lightkurve) (1.1.5)\n",
            "Requirement already satisfied: tqdm>=4.25.0 in /usr/local/lib/python3.6/dist-packages (from lightkurve) (4.41.1)\n",
            "Requirement already satisfied: scipy!=1.4.0,!=1.4.1,>=0.19.0 in /usr/local/lib/python3.6/dist-packages (from lightkurve) (1.5.4)\n",
            "Requirement already satisfied: fbpca>=1.0 in /usr/local/lib/python3.6/dist-packages (from lightkurve) (1.0)\n",
            "Requirement already satisfied: uncertainties in /usr/local/lib/python3.6/dist-packages (from lightkurve) (3.1.5)\n",
            "Requirement already satisfied: astroquery>=0.3.9 in /usr/local/lib/python3.6/dist-packages (from lightkurve) (0.4.1)\n",
            "Requirement already satisfied: bs4 in /usr/local/lib/python3.6/dist-packages (from lightkurve) (0.0.1)\n",
            "Requirement already satisfied: patsy>=0.5.1 in /usr/local/lib/python3.6/dist-packages (from lightkurve) (0.5.1)\n",
            "Requirement already satisfied: astropy>=1.3 in /usr/local/lib/python3.6/dist-packages (from lightkurve) (4.1)\n",
            "Requirement already satisfied: oktopus in /usr/local/lib/python3.6/dist-packages (from lightkurve) (0.1.2)\n",
            "Requirement already satisfied: requests in /usr/local/lib/python3.6/dist-packages (from lightkurve) (2.23.0)\n",
            "Requirement already satisfied: matplotlib>=1.5.3 in /usr/local/lib/python3.6/dist-packages (from lightkurve) (3.2.2)\n",
            "Requirement already satisfied: numpy>=1.11 in /usr/local/lib/python3.6/dist-packages (from lightkurve) (1.19.5)\n",
            "Requirement already satisfied: pytz>=2017.2 in /usr/local/lib/python3.6/dist-packages (from pandas->lightkurve) (2018.9)\n",
            "Requirement already satisfied: python-dateutil>=2.7.3 in /usr/local/lib/python3.6/dist-packages (from pandas->lightkurve) (2.8.1)\n",
            "Requirement already satisfied: future in /usr/local/lib/python3.6/dist-packages (from uncertainties->lightkurve) (0.16.0)\n",
            "Requirement already satisfied: html5lib>=0.999 in /usr/local/lib/python3.6/dist-packages (from astroquery>=0.3.9->lightkurve) (1.0.1)\n",
            "Requirement already satisfied: keyring>=4.0 in /usr/local/lib/python3.6/dist-packages (from astroquery>=0.3.9->lightkurve) (22.0.1)\n",
            "Requirement already satisfied: six in /usr/local/lib/python3.6/dist-packages (from astroquery>=0.3.9->lightkurve) (1.15.0)\n",
            "Requirement already satisfied: beautifulsoup4>=4.3.2 in /usr/local/lib/python3.6/dist-packages (from astroquery>=0.3.9->lightkurve) (4.6.3)\n",
            "Requirement already satisfied: autograd in /usr/local/lib/python3.6/dist-packages (from oktopus->lightkurve) (1.3)\n",
            "Requirement already satisfied: chardet<4,>=3.0.2 in /usr/local/lib/python3.6/dist-packages (from requests->lightkurve) (3.0.4)\n",
            "Requirement already satisfied: idna<3,>=2.5 in /usr/local/lib/python3.6/dist-packages (from requests->lightkurve) (2.10)\n",
            "Requirement already satisfied: certifi>=2017.4.17 in /usr/local/lib/python3.6/dist-packages (from requests->lightkurve) (2020.12.5)\n",
            "Requirement already satisfied: urllib3!=1.25.0,!=1.25.1,<1.26,>=1.21.1 in /usr/local/lib/python3.6/dist-packages (from requests->lightkurve) (1.24.3)\n",
            "Requirement already satisfied: cycler>=0.10 in /usr/local/lib/python3.6/dist-packages (from matplotlib>=1.5.3->lightkurve) (0.10.0)\n",
            "Requirement already satisfied: kiwisolver>=1.0.1 in /usr/local/lib/python3.6/dist-packages (from matplotlib>=1.5.3->lightkurve) (1.3.1)\n",
            "Requirement already satisfied: pyparsing!=2.0.4,!=2.1.2,!=2.1.6,>=2.0.1 in /usr/local/lib/python3.6/dist-packages (from matplotlib>=1.5.3->lightkurve) (2.4.7)\n",
            "Requirement already satisfied: webencodings in /usr/local/lib/python3.6/dist-packages (from html5lib>=0.999->astroquery>=0.3.9->lightkurve) (0.5.1)\n",
            "Requirement already satisfied: SecretStorage>=3.2; sys_platform == \"linux\" in /usr/local/lib/python3.6/dist-packages (from keyring>=4.0->astroquery>=0.3.9->lightkurve) (3.3.0)\n",
            "Requirement already satisfied: importlib-metadata>=1; python_version < \"3.8\" in /usr/local/lib/python3.6/dist-packages (from keyring>=4.0->astroquery>=0.3.9->lightkurve) (3.4.0)\n",
            "Requirement already satisfied: jeepney>=0.4.2; sys_platform == \"linux\" in /usr/local/lib/python3.6/dist-packages (from keyring>=4.0->astroquery>=0.3.9->lightkurve) (0.6.0)\n",
            "Requirement already satisfied: cryptography>=2.0 in /usr/local/lib/python3.6/dist-packages (from SecretStorage>=3.2; sys_platform == \"linux\"->keyring>=4.0->astroquery>=0.3.9->lightkurve) (3.3.1)\n",
            "Requirement already satisfied: zipp>=0.5 in /usr/local/lib/python3.6/dist-packages (from importlib-metadata>=1; python_version < \"3.8\"->keyring>=4.0->astroquery>=0.3.9->lightkurve) (3.4.0)\n",
            "Requirement already satisfied: typing-extensions>=3.6.4; python_version < \"3.8\" in /usr/local/lib/python3.6/dist-packages (from importlib-metadata>=1; python_version < \"3.8\"->keyring>=4.0->astroquery>=0.3.9->lightkurve) (3.7.4.3)\n",
            "Requirement already satisfied: cffi>=1.12 in /usr/local/lib/python3.6/dist-packages (from cryptography>=2.0->SecretStorage>=3.2; sys_platform == \"linux\"->keyring>=4.0->astroquery>=0.3.9->lightkurve) (1.14.4)\n",
            "Requirement already satisfied: pycparser in /usr/local/lib/python3.6/dist-packages (from cffi>=1.12->cryptography>=2.0->SecretStorage>=3.2; sys_platform == \"linux\"->keyring>=4.0->astroquery>=0.3.9->lightkurve) (2.20)\n"
          ],
          "name": "stdout"
        }
      ]
    },
    {
      "cell_type": "code",
      "metadata": {
        "id": "nkm_09EVQ885"
      },
      "source": [
        "## import our custom modules\n",
        "\n",
        "import sys\n",
        "sys.path.append('/content/gdrive/My Drive/EscapeEarthData/')\n",
        "import OpenAndPlot as op"
      ],
      "execution_count": null,
      "outputs": []
    },
    {
      "cell_type": "code",
      "metadata": {
        "colab": {
          "base_uri": "https://localhost:8080/",
          "height": 419
        },
        "id": "UTMHpEHOR8bp",
        "outputId": "f871a5ad-1bdb-40c0-a7ce-3161d2cc08d3"
      },
      "source": [
        "## get target info\n",
        "\n",
        "target_list =  pd.read_csv('/content/gdrive/My Drive/EscapeEarthData/all_targets_S014_v1.csv',skiprows=5) #from sector 14\n",
        "target_list"
      ],
      "execution_count": null,
      "outputs": [
        {
          "output_type": "execute_result",
          "data": {
            "text/html": [
              "<div>\n",
              "<style scoped>\n",
              "    .dataframe tbody tr th:only-of-type {\n",
              "        vertical-align: middle;\n",
              "    }\n",
              "\n",
              "    .dataframe tbody tr th {\n",
              "        vertical-align: top;\n",
              "    }\n",
              "\n",
              "    .dataframe thead th {\n",
              "        text-align: right;\n",
              "    }\n",
              "</style>\n",
              "<table border=\"1\" class=\"dataframe\">\n",
              "  <thead>\n",
              "    <tr style=\"text-align: right;\">\n",
              "      <th></th>\n",
              "      <th>TICID</th>\n",
              "      <th>Camera</th>\n",
              "      <th>CCD</th>\n",
              "      <th>Tmag</th>\n",
              "      <th>RA</th>\n",
              "      <th>Dec</th>\n",
              "    </tr>\n",
              "  </thead>\n",
              "  <tbody>\n",
              "    <tr>\n",
              "      <th>0</th>\n",
              "      <td>7582594</td>\n",
              "      <td>2</td>\n",
              "      <td>3</td>\n",
              "      <td>8.57</td>\n",
              "      <td>272.3966</td>\n",
              "      <td>45.8308</td>\n",
              "    </tr>\n",
              "    <tr>\n",
              "      <th>1</th>\n",
              "      <td>7582633</td>\n",
              "      <td>2</td>\n",
              "      <td>3</td>\n",
              "      <td>9.92</td>\n",
              "      <td>272.3288</td>\n",
              "      <td>45.9244</td>\n",
              "    </tr>\n",
              "    <tr>\n",
              "      <th>2</th>\n",
              "      <td>7582634</td>\n",
              "      <td>2</td>\n",
              "      <td>3</td>\n",
              "      <td>10.48</td>\n",
              "      <td>272.3307</td>\n",
              "      <td>45.9255</td>\n",
              "    </tr>\n",
              "    <tr>\n",
              "      <th>3</th>\n",
              "      <td>7583285</td>\n",
              "      <td>2</td>\n",
              "      <td>2</td>\n",
              "      <td>11.30</td>\n",
              "      <td>272.3711</td>\n",
              "      <td>47.2259</td>\n",
              "    </tr>\n",
              "    <tr>\n",
              "      <th>4</th>\n",
              "      <td>7584049</td>\n",
              "      <td>2</td>\n",
              "      <td>2</td>\n",
              "      <td>8.50</td>\n",
              "      <td>272.5282</td>\n",
              "      <td>47.0887</td>\n",
              "    </tr>\n",
              "    <tr>\n",
              "      <th>...</th>\n",
              "      <td>...</td>\n",
              "      <td>...</td>\n",
              "      <td>...</td>\n",
              "      <td>...</td>\n",
              "      <td>...</td>\n",
              "      <td>...</td>\n",
              "    </tr>\n",
              "    <tr>\n",
              "      <th>19995</th>\n",
              "      <td>1980752885</td>\n",
              "      <td>2</td>\n",
              "      <td>1</td>\n",
              "      <td>16.91</td>\n",
              "      <td>303.1632</td>\n",
              "      <td>60.2862</td>\n",
              "    </tr>\n",
              "    <tr>\n",
              "      <th>19996</th>\n",
              "      <td>1980968952</td>\n",
              "      <td>2</td>\n",
              "      <td>1</td>\n",
              "      <td>8.65</td>\n",
              "      <td>301.3995</td>\n",
              "      <td>63.7061</td>\n",
              "    </tr>\n",
              "    <tr>\n",
              "      <th>19997</th>\n",
              "      <td>1980968953</td>\n",
              "      <td>2</td>\n",
              "      <td>1</td>\n",
              "      <td>8.76</td>\n",
              "      <td>301.3993</td>\n",
              "      <td>63.7056</td>\n",
              "    </tr>\n",
              "    <tr>\n",
              "      <th>19998</th>\n",
              "      <td>1981207128</td>\n",
              "      <td>2</td>\n",
              "      <td>1</td>\n",
              "      <td>7.88</td>\n",
              "      <td>300.4913</td>\n",
              "      <td>65.8903</td>\n",
              "    </tr>\n",
              "    <tr>\n",
              "      <th>19999</th>\n",
              "      <td>1981303680</td>\n",
              "      <td>3</td>\n",
              "      <td>2</td>\n",
              "      <td>8.20</td>\n",
              "      <td>300.3917</td>\n",
              "      <td>70.4546</td>\n",
              "    </tr>\n",
              "  </tbody>\n",
              "</table>\n",
              "<p>20000 rows × 6 columns</p>\n",
              "</div>"
            ],
            "text/plain": [
              "            TICID   Camera   CCD   Tmag        RA      Dec\n",
              "0         7582594        2     3   8.57  272.3966  45.8308\n",
              "1         7582633        2     3   9.92  272.3288  45.9244\n",
              "2         7582634        2     3  10.48  272.3307  45.9255\n",
              "3         7583285        2     2  11.30  272.3711  47.2259\n",
              "4         7584049        2     2   8.50  272.5282  47.0887\n",
              "...           ...      ...   ...    ...       ...      ...\n",
              "19995  1980752885        2     1  16.91  303.1632  60.2862\n",
              "19996  1980968952        2     1   8.65  301.3995  63.7061\n",
              "19997  1980968953        2     1   8.76  301.3993  63.7056\n",
              "19998  1981207128        2     1   7.88  300.4913  65.8903\n",
              "19999  1981303680        3     2   8.20  300.3917  70.4546\n",
              "\n",
              "[20000 rows x 6 columns]"
            ]
          },
          "metadata": {
            "tags": []
          },
          "execution_count": 6
        }
      ]
    },
    {
      "cell_type": "code",
      "metadata": {
        "id": "EHKzDNp6Sg_a"
      },
      "source": [
        "id = 28159019\n",
        "sector = 14\n",
        "transit_data = [id,sector]\n",
        "transit_data\n",
        "\n",
        "transit = op.OpenAndPlot(transit_data)\n"
      ],
      "execution_count": null,
      "outputs": []
    },
    {
      "cell_type": "code",
      "metadata": {
        "colab": {
          "base_uri": "https://localhost:8080/"
        },
        "id": "jTaayIB_TDMQ",
        "outputId": "2ae45d40-fe37-4db8-dfb5-09dc0ddf8d76"
      },
      "source": [
        "## use custom class methods to open target data\n",
        "\n",
        "lc = transit.open_clean_lc()\n",
        "print( lc, '\\n', type(lc) ) "
      ],
      "execution_count": null,
      "outputs": [
        {
          "output_type": "stream",
          "text": [
            "TessLightCurve(TICID: None) \n",
            " <class 'lightkurve.lightcurve.TessLightCurve'>\n"
          ],
          "name": "stdout"
        }
      ]
    },
    {
      "cell_type": "code",
      "metadata": {
        "colab": {
          "base_uri": "https://localhost:8080/",
          "height": 331
        },
        "id": "ivynh8h1TnoK",
        "outputId": "ac63baae-8cd6-4019-a468-43661508f61b"
      },
      "source": [
        "## check lightKurve class attributes\n",
        "\n",
        "#print( 'Flux array:', lc.flux, '\\nTime array:', lc.time )\n",
        "\n",
        "lc1 = lc.flatten()\n",
        "\n",
        "lc1.scatter()\n",
        "plt.xlim(1693, 1694.4)\n",
        "plt.savefig('/content/gdrive/My Drive/EE-notebooks-OLIVIA/TransitPlot', dpi=200)\n",
        "#plt.savefig('/content/gdrive/My Drive/EscapeEarthData/TransitPlot')"
      ],
      "execution_count": null,
      "outputs": [
        {
          "output_type": "display_data",
          "data": {
            "image/png": "[encoded data removed]",
            "text/plain": [
              "<Figure size 848.5x400 with 1 Axes>"
            ]
          },
          "metadata": {
            "tags": []
          }
        }
      ]
    },
    {
      "cell_type": "code",
      "metadata": {
        "id": "hh4n4gMSUZ-K"
      },
      "source": [
        ""
      ],
      "execution_count": null,
      "outputs": []
    },
    {
      "cell_type": "code",
      "metadata": {
        "id": "1oPwoKT2V5AC"
      },
      "source": [
        ""
      ],
      "execution_count": null,
      "outputs": []
    }
  ]
}