{
  "nbformat": 4,
  "nbformat_minor": 0,
  "metadata": {
    "colab": {
      "name": "run_test.ipynb",
      "provenance": [],
      "collapsed_sections": [],
      "authorship_tag": "ABX9TyOoX3b+HW7NUAbZ94oIscAt",
      "include_colab_link": true
    },
    "kernelspec": {
      "name": "python3",
      "display_name": "Python 3"
    }
  },
  "cells": [
    {
      "cell_type": "markdown",
      "metadata": {
        "id": "view-in-github",
        "colab_type": "text"
      },
      "source": [
        "<a href=\"https://colab.research.google.com/github/OBB-2199/EscapeEarth/blob/main/Interns/Olivia/run_test.ipynb\" target=\"_parent\"><img src=\"https://colab.research.google.com/assets/colab-badge.svg\" alt=\"Open In Colab\"/></a>"
      ]
    },
    {
      "cell_type": "code",
      "metadata": {
        "colab": {
          "base_uri": "https://localhost:8080/"
        },
        "id": "0iGbjJlKGzpw",
        "outputId": "9c5511c4-7011-4d42-bf39-33e2d4c10db6"
      },
      "source": [
        "## mount google drive to access files\n",
        "\n",
        "from google.colab import drive\n",
        "drive.mount('/content/gdrive')\n"
      ],
      "execution_count": null,
      "outputs": [
        {
          "output_type": "stream",
          "text": [
            "Drive already mounted at /content/gdrive; to attempt to forcibly remount, call drive.mount(\"/content/gdrive\", force_remount=True).\n"
          ],
          "name": "stdout"
        }
      ]
    },
    {
      "cell_type": "code",
      "metadata": {
        "colab": {
          "base_uri": "https://localhost:8080/"
        },
        "id": "YqOb2orMGqn8",
        "outputId": "6082976f-af23-4b59-e52f-13feb88dcf30"
      },
      "source": [
        "import matplotlib.pyplot as plt\n",
        "import numpy as np\n",
        "!pip install lightkurve==1.9.0\n",
        "import lightkurve as lk\n",
        "import pandas as pd\n",
        "import sys\n",
        "sys.path.append('/content/gdrive/My Drive/EscapeEarthData/')\n",
        "import OpenAndPlot as op"
      ],
      "execution_count": null,
      "outputs": [
        {
          "output_type": "stream",
          "text": [
            "Collecting lightkurve==1.9.0\n",
            "\u001b[?25l  Downloading https://files.pythonhosted.org/packages/9a/45/d5c5555a0bf3d505ac2912c514dfb1cf49c1e57a28cf6b3bffc7ebf4ed21/lightkurve-1.9.0-py3-none-any.whl (492kB)\n",
            "\r\u001b[K     |▋                               | 10kB 12.1MB/s eta 0:00:01\r\u001b[K     |█▎                              | 20kB 17.3MB/s eta 0:00:01\r\u001b[K     |██                              | 30kB 10.1MB/s eta 0:00:01\r\u001b[K     |██▋                             | 40kB 8.4MB/s eta 0:00:01\r\u001b[K     |███▎                            | 51kB 4.2MB/s eta 0:00:01\r\u001b[K     |████                            | 61kB 4.8MB/s eta 0:00:01\r\u001b[K     |████▋                           | 71kB 4.8MB/s eta 0:00:01\r\u001b[K     |█████▎                          | 81kB 5.1MB/s eta 0:00:01\r\u001b[K     |██████                          | 92kB 5.6MB/s eta 0:00:01\r\u001b[K     |██████▋                         | 102kB 5.7MB/s eta 0:00:01\r\u001b[K     |███████▎                        | 112kB 5.7MB/s eta 0:00:01\r\u001b[K     |████████                        | 122kB 5.7MB/s eta 0:00:01\r\u001b[K     |████████▋                       | 133kB 5.7MB/s eta 0:00:01\r\u001b[K     |█████████▎                      | 143kB 5.7MB/s eta 0:00:01\r\u001b[K     |██████████                      | 153kB 5.7MB/s eta 0:00:01\r\u001b[K     |██████████▋                     | 163kB 5.7MB/s eta 0:00:01\r\u001b[K     |███████████▎                    | 174kB 5.7MB/s eta 0:00:01\r\u001b[K     |████████████                    | 184kB 5.7MB/s eta 0:00:01\r\u001b[K     |████████████▋                   | 194kB 5.7MB/s eta 0:00:01\r\u001b[K     |█████████████▎                  | 204kB 5.7MB/s eta 0:00:01\r\u001b[K     |██████████████                  | 215kB 5.7MB/s eta 0:00:01\r\u001b[K     |██████████████▋                 | 225kB 5.7MB/s eta 0:00:01\r\u001b[K     |███████████████▎                | 235kB 5.7MB/s eta 0:00:01\r\u001b[K     |████████████████                | 245kB 5.7MB/s eta 0:00:01\r\u001b[K     |████████████████▋               | 256kB 5.7MB/s eta 0:00:01\r\u001b[K     |█████████████████▎              | 266kB 5.7MB/s eta 0:00:01\r\u001b[K     |██████████████████              | 276kB 5.7MB/s eta 0:00:01\r\u001b[K     |██████████████████▋             | 286kB 5.7MB/s eta 0:00:01\r\u001b[K     |███████████████████▎            | 296kB 5.7MB/s eta 0:00:01\r\u001b[K     |████████████████████            | 307kB 5.7MB/s eta 0:00:01\r\u001b[K     |████████████████████▋           | 317kB 5.7MB/s eta 0:00:01\r\u001b[K     |█████████████████████▎          | 327kB 5.7MB/s eta 0:00:01\r\u001b[K     |██████████████████████          | 337kB 5.7MB/s eta 0:00:01\r\u001b[K     |██████████████████████▋         | 348kB 5.7MB/s eta 0:00:01\r\u001b[K     |███████████████████████▎        | 358kB 5.7MB/s eta 0:00:01\r\u001b[K     |████████████████████████        | 368kB 5.7MB/s eta 0:00:01\r\u001b[K     |████████████████████████▋       | 378kB 5.7MB/s eta 0:00:01\r\u001b[K     |█████████████████████████▎      | 389kB 5.7MB/s eta 0:00:01\r\u001b[K     |██████████████████████████      | 399kB 5.7MB/s eta 0:00:01\r\u001b[K     |██████████████████████████▋     | 409kB 5.7MB/s eta 0:00:01\r\u001b[K     |███████████████████████████▎    | 419kB 5.7MB/s eta 0:00:01\r\u001b[K     |████████████████████████████    | 430kB 5.7MB/s eta 0:00:01\r\u001b[K     |████████████████████████████▋   | 440kB 5.7MB/s eta 0:00:01\r\u001b[K     |█████████████████████████████▎  | 450kB 5.7MB/s eta 0:00:01\r\u001b[K     |██████████████████████████████  | 460kB 5.7MB/s eta 0:00:01\r\u001b[K     |██████████████████████████████▋ | 471kB 5.7MB/s eta 0:00:01\r\u001b[K     |███████████████████████████████▎| 481kB 5.7MB/s eta 0:00:01\r\u001b[K     |████████████████████████████████| 491kB 5.7MB/s eta 0:00:01\r\u001b[K     |████████████████████████████████| 501kB 5.7MB/s \n",
            "\u001b[?25hRequirement already satisfied: numpy>=1.11 in /usr/local/lib/python3.7/dist-packages (from lightkurve==1.9.0) (1.19.5)\n",
            "Requirement already satisfied: astropy>=1.3 in /usr/local/lib/python3.7/dist-packages (from lightkurve==1.9.0) (4.2)\n",
            "Requirement already satisfied: patsy>=0.5.1 in /usr/local/lib/python3.7/dist-packages (from lightkurve==1.9.0) (0.5.1)\n",
            "Collecting fbpca>=1.0\n",
            "  Downloading https://files.pythonhosted.org/packages/a7/a5/2085d0645a4bb4f0b606251b0b7466c61326e4a471d445c1c3761a2d07bc/fbpca-1.0.tar.gz\n",
            "Requirement already satisfied: tqdm>=4.25.0 in /usr/local/lib/python3.7/dist-packages (from lightkurve==1.9.0) (4.41.1)\n",
            "Requirement already satisfied: pandas in /usr/local/lib/python3.7/dist-packages (from lightkurve==1.9.0) (1.1.5)\n",
            "Requirement already satisfied: bs4 in /usr/local/lib/python3.7/dist-packages (from lightkurve==1.9.0) (0.0.1)\n",
            "Requirement already satisfied: scipy>=0.19.0 in /usr/local/lib/python3.7/dist-packages (from lightkurve==1.9.0) (1.4.1)\n",
            "Requirement already satisfied: matplotlib>=1.5.3 in /usr/local/lib/python3.7/dist-packages (from lightkurve==1.9.0) (3.2.2)\n",
            "Requirement already satisfied: requests in /usr/local/lib/python3.7/dist-packages (from lightkurve==1.9.0) (2.23.0)\n",
            "Collecting astroquery>=0.3.9\n",
            "\u001b[?25l  Downloading https://files.pythonhosted.org/packages/1b/f8/4690523783691ed816b3469c3ec611af3798594d37ade510dd918d59f57e/astroquery-0.4.1.tar.gz (6.5MB)\n",
            "\u001b[K     |████████████████████████████████| 6.5MB 14.3MB/s \n",
            "\u001b[?25hCollecting oktopus\n",
            "  Downloading https://files.pythonhosted.org/packages/2d/6e/7b7e11442ff70286c22614d200f6145f83528dc6c99fec0982665e25c8d3/oktopus-0.1.2.tar.gz\n",
            "Collecting uncertainties\n",
            "\u001b[?25l  Downloading https://files.pythonhosted.org/packages/45/41/fc7e7b73b603e7c2c9e040b7aa8caf4a88d74b6faa567601ed82b6f0d8e1/uncertainties-3.1.5-py2.py3-none-any.whl (246kB)\n",
            "\u001b[K     |████████████████████████████████| 256kB 42.1MB/s \n",
            "\u001b[?25hRequirement already satisfied: pyerfa in /usr/local/lib/python3.7/dist-packages (from astropy>=1.3->lightkurve==1.9.0) (1.7.2)\n",
            "Requirement already satisfied: six in /usr/local/lib/python3.7/dist-packages (from patsy>=0.5.1->lightkurve==1.9.0) (1.15.0)\n",
            "Requirement already satisfied: python-dateutil>=2.7.3 in /usr/local/lib/python3.7/dist-packages (from pandas->lightkurve==1.9.0) (2.8.1)\n",
            "Requirement already satisfied: pytz>=2017.2 in /usr/local/lib/python3.7/dist-packages (from pandas->lightkurve==1.9.0) (2018.9)\n",
            "Requirement already satisfied: beautifulsoup4 in /usr/local/lib/python3.7/dist-packages (from bs4->lightkurve==1.9.0) (4.6.3)\n",
            "Requirement already satisfied: cycler>=0.10 in /usr/local/lib/python3.7/dist-packages (from matplotlib>=1.5.3->lightkurve==1.9.0) (0.10.0)\n",
            "Requirement already satisfied: pyparsing!=2.0.4,!=2.1.2,!=2.1.6,>=2.0.1 in /usr/local/lib/python3.7/dist-packages (from matplotlib>=1.5.3->lightkurve==1.9.0) (2.4.7)\n",
            "Requirement already satisfied: kiwisolver>=1.0.1 in /usr/local/lib/python3.7/dist-packages (from matplotlib>=1.5.3->lightkurve==1.9.0) (1.3.1)\n",
            "Requirement already satisfied: certifi>=2017.4.17 in /usr/local/lib/python3.7/dist-packages (from requests->lightkurve==1.9.0) (2020.12.5)\n",
            "Requirement already satisfied: idna<3,>=2.5 in /usr/local/lib/python3.7/dist-packages (from requests->lightkurve==1.9.0) (2.10)\n",
            "Requirement already satisfied: urllib3!=1.25.0,!=1.25.1,<1.26,>=1.21.1 in /usr/local/lib/python3.7/dist-packages (from requests->lightkurve==1.9.0) (1.24.3)\n",
            "Requirement already satisfied: chardet<4,>=3.0.2 in /usr/local/lib/python3.7/dist-packages (from requests->lightkurve==1.9.0) (3.0.4)\n",
            "Collecting keyring>=4.0\n",
            "  Downloading https://files.pythonhosted.org/packages/4a/4f/a63f284d26eac29a29e24657d12f17bddac58b12673ca39b53ae5f20c1a3/keyring-23.0.0-py3-none-any.whl\n",
            "Requirement already satisfied: html5lib>=0.999 in /usr/local/lib/python3.7/dist-packages (from astroquery>=0.3.9->lightkurve==1.9.0) (1.0.1)\n",
            "Requirement already satisfied: autograd in /usr/local/lib/python3.7/dist-packages (from oktopus->lightkurve==1.9.0) (1.3)\n",
            "Requirement already satisfied: future in /usr/local/lib/python3.7/dist-packages (from uncertainties->lightkurve==1.9.0) (0.16.0)\n",
            "Requirement already satisfied: importlib-metadata>=3.6 in /usr/local/lib/python3.7/dist-packages (from keyring>=4.0->astroquery>=0.3.9->lightkurve==1.9.0) (3.7.0)\n",
            "Collecting jeepney>=0.4.2; sys_platform == \"linux\"\n",
            "\u001b[?25l  Downloading https://files.pythonhosted.org/packages/51/b0/a6ea72741aaac3f37fb96d195e4ee576a103c4c04e279bc6b446a70960e1/jeepney-0.6.0-py3-none-any.whl (45kB)\n",
            "\u001b[K     |████████████████████████████████| 51kB 5.9MB/s \n",
            "\u001b[?25hCollecting SecretStorage>=3.2; sys_platform == \"linux\"\n",
            "  Downloading https://files.pythonhosted.org/packages/d9/1e/29cd69fdac7391aa51510dfd42aa70b4e6a826c8cd019ee2a8ab9ec0777f/SecretStorage-3.3.1-py3-none-any.whl\n",
            "Requirement already satisfied: webencodings in /usr/local/lib/python3.7/dist-packages (from html5lib>=0.999->astroquery>=0.3.9->lightkurve==1.9.0) (0.5.1)\n",
            "Requirement already satisfied: zipp>=0.5 in /usr/local/lib/python3.7/dist-packages (from importlib-metadata>=3.6->keyring>=4.0->astroquery>=0.3.9->lightkurve==1.9.0) (3.4.1)\n",
            "Requirement already satisfied: typing-extensions>=3.6.4; python_version < \"3.8\" in /usr/local/lib/python3.7/dist-packages (from importlib-metadata>=3.6->keyring>=4.0->astroquery>=0.3.9->lightkurve==1.9.0) (3.7.4.3)\n",
            "Collecting cryptography>=2.0\n",
            "\u001b[?25l  Downloading https://files.pythonhosted.org/packages/f8/1f/acde6ff69864c5e78b56488e3afd93c1ccc8c2651186e2a5f93d93f64859/cryptography-3.4.6-cp36-abi3-manylinux2014_x86_64.whl (3.2MB)\n",
            "\u001b[K     |████████████████████████████████| 3.2MB 52.3MB/s \n",
            "\u001b[?25hRequirement already satisfied: cffi>=1.12 in /usr/local/lib/python3.7/dist-packages (from cryptography>=2.0->SecretStorage>=3.2; sys_platform == \"linux\"->keyring>=4.0->astroquery>=0.3.9->lightkurve==1.9.0) (1.14.5)\n",
            "Requirement already satisfied: pycparser in /usr/local/lib/python3.7/dist-packages (from cffi>=1.12->cryptography>=2.0->SecretStorage>=3.2; sys_platform == \"linux\"->keyring>=4.0->astroquery>=0.3.9->lightkurve==1.9.0) (2.20)\n",
            "Building wheels for collected packages: fbpca, astroquery, oktopus\n",
            "  Building wheel for fbpca (setup.py) ... \u001b[?25l\u001b[?25hdone\n",
            "  Created wheel for fbpca: filename=fbpca-1.0-cp37-none-any.whl size=11376 sha256=ab62631cc4c814761afe914f1297fb7311bd57a20a96f47512f39bc4cae8d023\n",
            "  Stored in directory: /root/.cache/pip/wheels/53/a2/dd/9b66cf53dbc58cec1e613d216689e5fa946d3e7805c30f60dc\n",
            "  Building wheel for astroquery (setup.py) ... \u001b[?25l\u001b[?25hdone\n",
            "  Created wheel for astroquery: filename=astroquery-0.4.1-cp37-none-any.whl size=3831874 sha256=3f314df30f85ae4e99ac0ba28807f4ad34eab393115e756219378c71080caea3\n",
            "  Stored in directory: /root/.cache/pip/wheels/88/f8/b7/a254cd96e808f708bc0b7d755a8e095c56fbbe94099d7b464f\n",
            "  Building wheel for oktopus (setup.py) ... \u001b[?25l\u001b[?25hdone\n",
            "  Created wheel for oktopus: filename=oktopus-0.1.2-cp37-none-any.whl size=12780 sha256=57dc7e507f9761de8802bfe533c48561c41ae9f2bebe2831e55e08dc89081509\n",
            "  Stored in directory: /root/.cache/pip/wheels/9b/90/81/098fc66ee56166d63c9a8fc0a9672ae7b3423396a588ec952a\n",
            "Successfully built fbpca astroquery oktopus\n",
            "Installing collected packages: fbpca, jeepney, cryptography, SecretStorage, keyring, astroquery, oktopus, uncertainties, lightkurve\n",
            "Successfully installed SecretStorage-3.3.1 astroquery-0.4.1 cryptography-3.4.6 fbpca-1.0 jeepney-0.6.0 keyring-23.0.0 lightkurve-1.9.0 oktopus-0.1.2 uncertainties-3.1.5\n"
          ],
          "name": "stdout"
        }
      ]
    },
    {
      "cell_type": "code",
      "metadata": {
        "id": "5fHOcSM4FOeT"
      },
      "source": [
        "#https://docs.google.com/presentation/d/1nJR1YiOolG41xITh9mAs61WhhRY_JuTn8uIx49LPm5k/edit#slide=id.p\n",
        "\n",
        "def periods(N=1000):\n",
        "    period=np.logspace(-0.523, 1.43, N, endpoint=True)\n",
        "    return period\n",
        "\n",
        "def duration_grid(N=10):\n",
        "    duration=np.linspace(.01, 0.298, N)\n",
        "    return duration\n",
        "\n",
        "def flatten (lc):\n",
        "    '''\n",
        "    inputs: cleaned lightkurve data\n",
        "    output: flattened time and flux data\n",
        "    function: takes in lightkurve data and flattens the time and flux\n",
        "    '''\n",
        "    lc_flat = lc.flatten()\n",
        "    flat_time = lc_flat.time - lc_flat.time[0]\n",
        "    return lc_flat, flat_time\n",
        "\n",
        "def BLS(periodgrid,lightcurve,flat_time,durationgrid):\n",
        "    from astropy.timeseries import BoxLeastSquares\n",
        "\n",
        "    '''\n",
        "    Purppose\n",
        "    ------------------\n",
        "    A Box Least Squares function to print out the compute stats of the periodogram.\n",
        "\n",
        "    Parameters\n",
        "    -------------------\n",
        "    period grid            - describes how often the transit is happening (arrays different value)\n",
        "    duration grid          - describes the width of the transit (array of different values)\n",
        "    lightcurve             - lightkurve class object\n",
        "\n",
        "    Returns\n",
        "    list of stats in the following order: period, duration, transit-time, power, depth\n",
        "    ------------------\n",
        "    Calculate several statistics of a candidate transit.\n",
        "    '''\n",
        "    #assigning parameters to variables\n",
        "    period = periodgrid\n",
        "    duration = durationgrid\n",
        "    lc = lightcurve\n",
        "\n",
        "    t = flat_time #time\n",
        "    y = lc.flux #flux\n",
        "\n",
        "    #dy is the uncertianty\n",
        "    model = BoxLeastSquares(t, y, dy= lc.flux_err)\n",
        "    periodogram = model.power(period,duration)\n",
        "    max_power = np.argmax(periodogram.power)\n",
        "\n",
        "    #calculates the max stats w/in the transit\n",
        "    stats = [periodogram.period[max_power],\n",
        "            periodogram.duration[max_power],\n",
        "            periodogram.transit_time[max_power],\n",
        "            max_power,\n",
        "            periodogram.depth[max_power]]\n",
        "\n",
        "    #stats is the one peak, periodogram is the array\n",
        "    return stats\n",
        "##############################\n",
        "##############################\n",
        "#change sector here\n",
        "sector = 14\n",
        "##############################\n",
        "##############################\n",
        "\n",
        "\n",
        "#opening target lists\n",
        "path14 = '/content/gdrive/My Drive/EscapeEarthData/all_targets_S014_v1.csv'\n",
        "path15 = '/content/gdrive/My Drive/EscapeEarthData/all_targets_S015_v1.csv'\n",
        "Olivia_path14 = '~/Users/brownscholar/Desktop/Brown Scholars/Internship/all_targets_S014_v1.csv'\n",
        "Olivia_path15 = '~/Users/brownscholar/Desktop/Brown Scholars/Internship/all_targets_S015_v1.csv'\n",
        "\n",
        "target_list14 = pd.read_csv(path14,skiprows=5) #from sector 14\n",
        "target_list15 = pd.read_csv(path15,skiprows=5) #from sector 15\n",
        "testing_targets = [ 7582633, 7620704, 7618785 ] #7582594, 7584049 – don't exist\n"
      ],
      "execution_count": null,
      "outputs": []
    },
    {
      "cell_type": "code",
      "metadata": {
        "id": "lKv2I9z2djRQ"
      },
      "source": [
        "save_power = '/content/gdrive/My Drive/EscapeEarthData/TeamB/bls_powers-RunTeam.npy'\n",
        "save_period = '/content/gdrive/My Drive/EscapeEarthData/TeamB/bls_period-RunTeam.npy'\n",
        "save_duration = '/content/gdrive/My Drive/EscapeEarthData/TeamB/bls_duration-RunTeam.npy'\n",
        "save_depth = '/content/gdrive/My Drive/EscapeEarthData/TeamB/bls_depth-RunTeam.npy'\n",
        "save_transit_time = '/content/gdrive/My Drive/EscapeEarthData/TeamB/bls_transit_time-RunTeam.npy'\n",
        "save_path = [save_depth,save_duration,save_transit_time,save_period,save_power]\n",
        "\n",
        "final_save = '/content/gdrive/My Drive/EscapeEarthData/TeamB/bls_stats_df.csv'"
      ],
      "execution_count": null,
      "outputs": []
    },
    {
      "cell_type": "code",
      "metadata": {
        "colab": {
          "base_uri": "https://localhost:8080/"
        },
        "id": "fOMY87KnHUAT",
        "outputId": "a368f844-cbec-4e33-809c-a9b697037fb5"
      },
      "source": [
        "#period grid\n",
        "pg = periods()\n",
        "#duration grid\n",
        "dg = duration_grid()\n",
        "#create a empty list for each stat (period,depth,duration,power,transit_time)\n",
        "period = []; depth = []; duration = []; power =[]; transit_time = []\n",
        "\n",
        "#change targets here\n",
        "targets = testing_targets\n",
        "\n",
        "#have to run for each sector\n",
        "for star_id in targets:\n",
        "    data = [star_id,sector]\n",
        "    #intialize class\n",
        "    lc = op.OpenAndPlot(data)\n",
        "    #open data\n",
        "    open_data = lc.open_lc('clean')\n",
        "    #flatten the data\n",
        "    flat_lc,flat_time = flatten(open_data)\n",
        "    #run the bls on flattened data\n",
        "    bls_output = BLS(pg,flat_lc,flat_time,dg)\n",
        "    #append each of the stats to a separate list\n",
        "    period.append(bls_output[0]); duration.append(bls_output[1]) \n",
        "    transit_time.append(bls_output[2]); power.append(bls_output[3])\n",
        "    depth.append(bls_output[4])\n",
        "    #save that list\n",
        "    #np.save()\n",
        "    my_arr = [depth,duration,transit_time, period, power]\n",
        "    for i in range(len(save_path)):\n",
        "      np.save(save_path[i],my_arr[i])\n",
        "    \n",
        "print(len(period),len(duration),len(depth),len(power),len(transit_time))\n",
        "print(period,duration,depth,depth,power,transit_time)\n",
        "\n",
        "#create a dictionary of all the stats\n",
        "stats_dict = {'Period':period,'Duration':duration,'Transit Time':transit_time, \"Power\": power,'Depth':depth}\n",
        "#use that dictionary to create a pandas dataframe\n",
        "stats_df = pd.DataFrame(stats_dict)\n",
        "#write that dataframe to a file\n",
        "stats_df.to_csv(final_save)"
      ],
      "execution_count": null,
      "outputs": [
        {
          "output_type": "stream",
          "text": [
            "3 3 3 3 3\n",
            "[0.2999162518987651, 26.915348039269155, 0.3067430805462068] [0.298, 0.202, 0.298] [0.00039819819922779106, 0.007276056431156272, 2.4909213180129014e-05] [0.00039819819922779106, 0.007276056431156272, 2.4909213180129014e-05] [0, 999, 5] [0.157, 26.769, 0.163]\n"
          ],
          "name": "stdout"
        }
      ]
    },
    {
      "cell_type": "code",
      "metadata": {
        "id": "B3cu-z1ZPBHo"
      },
      "source": [
        ""
      ],
      "execution_count": null,
      "outputs": []
    }
  ]
}