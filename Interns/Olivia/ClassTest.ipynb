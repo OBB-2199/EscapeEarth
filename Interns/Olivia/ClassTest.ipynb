{
  "nbformat": 4,
  "nbformat_minor": 0,
  "metadata": {
    "colab": {
      "name": "ClassTest.ipynb",
      "provenance": [],
      "collapsed_sections": [],
      "include_colab_link": true
    },
    "kernelspec": {
      "display_name": "Python 3",
      "language": "python",
      "name": "python3"
    },
    "language_info": {
      "codemirror_mode": {
        "name": "ipython",
        "version": 3
      },
      "file_extension": ".py",
      "mimetype": "text/x-python",
      "name": "python",
      "nbconvert_exporter": "python",
      "pygments_lexer": "ipython3",
      "version": "3.7.6"
    }
  },
  "cells": [
    {
      "cell_type": "markdown",
      "metadata": {
        "id": "view-in-github",
        "colab_type": "text"
      },
      "source": [
        "<a href=\"https://colab.research.google.com/github/OBB-2199/EscapeEarth/blob/main/Interns/Olivia/ClassTest.ipynb\" target=\"_parent\"><img src=\"https://colab.research.google.com/assets/colab-badge.svg\" alt=\"Open In Colab\"/></a>"
      ]
    },
    {
      "cell_type": "code",
      "metadata": {
        "colab": {
          "base_uri": "https://localhost:8080/"
        },
        "id": "NTjCK2K2Icse",
        "outputId": "7a5ab74b-ee55-4937-f25a-001cbc040e88"
      },
      "source": [
        "## mount google drive to access files\n",
        "\n",
        "from google.colab import drive\n",
        "drive.mount('/content/gdrive')\n"
      ],
      "execution_count": null,
      "outputs": [
        {
          "output_type": "stream",
          "text": [
            "Mounted at /content/gdrive\n"
          ],
          "name": "stdout"
        }
      ]
    },
    {
      "cell_type": "code",
      "metadata": {
        "colab": {
          "base_uri": "https://localhost:8080/"
        },
        "id": "eTmxMVdHIt09",
        "outputId": "2a8427f9-afed-4841-ff79-c9d018502313"
      },
      "source": [
        "## typical imports\n",
        "%matplotlib inline\n",
        "!pip install lightkurve==1.9.0 #b/c non-standard library & we want a specific version\n",
        "import lightkurve as lk\n",
        "import numpy as np\n",
        "import pandas as pd"
      ],
      "execution_count": null,
      "outputs": [
        {
          "output_type": "stream",
          "text": [
            "Collecting lightkurve==1.9.0\n",
            "\u001b[?25l  Downloading https://files.pythonhosted.org/packages/9a/45/d5c5555a0bf3d505ac2912c514dfb1cf49c1e57a28cf6b3bffc7ebf4ed21/lightkurve-1.9.0-py3-none-any.whl (492kB)\n",
            "\u001b[K     |████████████████████████████████| 501kB 4.3MB/s \n",
            "\u001b[?25hRequirement already satisfied: uncertainties in /usr/local/lib/python3.7/dist-packages (from lightkurve==1.9.0) (3.1.5)\n",
            "Requirement already satisfied: pandas in /usr/local/lib/python3.7/dist-packages (from lightkurve==1.9.0) (1.1.5)\n",
            "Requirement already satisfied: oktopus in /usr/local/lib/python3.7/dist-packages (from lightkurve==1.9.0) (0.1.2)\n",
            "Requirement already satisfied: requests in /usr/local/lib/python3.7/dist-packages (from lightkurve==1.9.0) (2.25.1)\n",
            "Requirement already satisfied: tqdm>=4.25.0 in /usr/local/lib/python3.7/dist-packages (from lightkurve==1.9.0) (4.41.1)\n",
            "Requirement already satisfied: numpy>=1.11 in /usr/local/lib/python3.7/dist-packages (from lightkurve==1.9.0) (1.19.5)\n",
            "Requirement already satisfied: astroquery>=0.3.9 in /usr/local/lib/python3.7/dist-packages (from lightkurve==1.9.0) (0.4.1)\n",
            "Requirement already satisfied: bs4 in /usr/local/lib/python3.7/dist-packages (from lightkurve==1.9.0) (0.0.1)\n",
            "Requirement already satisfied: scipy>=0.19.0 in /usr/local/lib/python3.7/dist-packages (from lightkurve==1.9.0) (1.4.1)\n",
            "Requirement already satisfied: patsy>=0.5.1 in /usr/local/lib/python3.7/dist-packages (from lightkurve==1.9.0) (0.5.1)\n",
            "Requirement already satisfied: matplotlib>=1.5.3 in /usr/local/lib/python3.7/dist-packages (from lightkurve==1.9.0) (3.2.2)\n",
            "Requirement already satisfied: astropy>=1.3 in /usr/local/lib/python3.7/dist-packages (from lightkurve==1.9.0) (4.2)\n",
            "Requirement already satisfied: fbpca>=1.0 in /usr/local/lib/python3.7/dist-packages (from lightkurve==1.9.0) (1.0)\n",
            "Requirement already satisfied: future in /usr/local/lib/python3.7/dist-packages (from uncertainties->lightkurve==1.9.0) (0.16.0)\n",
            "Requirement already satisfied: pytz>=2017.2 in /usr/local/lib/python3.7/dist-packages (from pandas->lightkurve==1.9.0) (2018.9)\n",
            "Requirement already satisfied: python-dateutil>=2.7.3 in /usr/local/lib/python3.7/dist-packages (from pandas->lightkurve==1.9.0) (2.8.1)\n",
            "Requirement already satisfied: autograd in /usr/local/lib/python3.7/dist-packages (from oktopus->lightkurve==1.9.0) (1.3)\n",
            "Requirement already satisfied: urllib3<1.27,>=1.21.1 in /usr/local/lib/python3.7/dist-packages (from requests->lightkurve==1.9.0) (1.24.3)\n",
            "Requirement already satisfied: idna<3,>=2.5 in /usr/local/lib/python3.7/dist-packages (from requests->lightkurve==1.9.0) (2.10)\n",
            "Requirement already satisfied: certifi>=2017.4.17 in /usr/local/lib/python3.7/dist-packages (from requests->lightkurve==1.9.0) (2020.12.5)\n",
            "Requirement already satisfied: chardet<5,>=3.0.2 in /usr/local/lib/python3.7/dist-packages (from requests->lightkurve==1.9.0) (3.0.4)\n",
            "Requirement already satisfied: beautifulsoup4>=4.3.2 in /usr/local/lib/python3.7/dist-packages (from astroquery>=0.3.9->lightkurve==1.9.0) (4.6.3)\n",
            "Requirement already satisfied: html5lib>=0.999 in /usr/local/lib/python3.7/dist-packages (from astroquery>=0.3.9->lightkurve==1.9.0) (1.0.1)\n",
            "Requirement already satisfied: six in /usr/local/lib/python3.7/dist-packages (from astroquery>=0.3.9->lightkurve==1.9.0) (1.15.0)\n",
            "Requirement already satisfied: keyring>=4.0 in /usr/local/lib/python3.7/dist-packages (from astroquery>=0.3.9->lightkurve==1.9.0) (22.3.0)\n",
            "Requirement already satisfied: pyparsing!=2.0.4,!=2.1.2,!=2.1.6,>=2.0.1 in /usr/local/lib/python3.7/dist-packages (from matplotlib>=1.5.3->lightkurve==1.9.0) (2.4.7)\n",
            "Requirement already satisfied: cycler>=0.10 in /usr/local/lib/python3.7/dist-packages (from matplotlib>=1.5.3->lightkurve==1.9.0) (0.10.0)\n",
            "Requirement already satisfied: kiwisolver>=1.0.1 in /usr/local/lib/python3.7/dist-packages (from matplotlib>=1.5.3->lightkurve==1.9.0) (1.3.1)\n",
            "Requirement already satisfied: pyerfa in /usr/local/lib/python3.7/dist-packages (from astropy>=1.3->lightkurve==1.9.0) (1.7.2)\n",
            "Requirement already satisfied: webencodings in /usr/local/lib/python3.7/dist-packages (from html5lib>=0.999->astroquery>=0.3.9->lightkurve==1.9.0) (0.5.1)\n",
            "Requirement already satisfied: jeepney>=0.4.2; sys_platform == \"linux\" in /usr/local/lib/python3.7/dist-packages (from keyring>=4.0->astroquery>=0.3.9->lightkurve==1.9.0) (0.6.0)\n",
            "Requirement already satisfied: SecretStorage>=3.2; sys_platform == \"linux\" in /usr/local/lib/python3.7/dist-packages (from keyring>=4.0->astroquery>=0.3.9->lightkurve==1.9.0) (3.3.1)\n",
            "Requirement already satisfied: importlib-metadata>=1; python_version < \"3.8\" in /usr/local/lib/python3.7/dist-packages (from keyring>=4.0->astroquery>=0.3.9->lightkurve==1.9.0) (3.7.0)\n",
            "Requirement already satisfied: cryptography>=2.0 in /usr/local/lib/python3.7/dist-packages (from SecretStorage>=3.2; sys_platform == \"linux\"->keyring>=4.0->astroquery>=0.3.9->lightkurve==1.9.0) (3.4.6)\n",
            "Requirement already satisfied: typing-extensions>=3.6.4; python_version < \"3.8\" in /usr/local/lib/python3.7/dist-packages (from importlib-metadata>=1; python_version < \"3.8\"->keyring>=4.0->astroquery>=0.3.9->lightkurve==1.9.0) (3.7.4.3)\n",
            "Requirement already satisfied: zipp>=0.5 in /usr/local/lib/python3.7/dist-packages (from importlib-metadata>=1; python_version < \"3.8\"->keyring>=4.0->astroquery>=0.3.9->lightkurve==1.9.0) (3.4.0)\n",
            "Requirement already satisfied: cffi>=1.12 in /usr/local/lib/python3.7/dist-packages (from cryptography>=2.0->SecretStorage>=3.2; sys_platform == \"linux\"->keyring>=4.0->astroquery>=0.3.9->lightkurve==1.9.0) (1.14.5)\n",
            "Requirement already satisfied: pycparser in /usr/local/lib/python3.7/dist-packages (from cffi>=1.12->cryptography>=2.0->SecretStorage>=3.2; sys_platform == \"linux\"->keyring>=4.0->astroquery>=0.3.9->lightkurve==1.9.0) (2.20)\n",
            "Installing collected packages: lightkurve\n",
            "Successfully installed lightkurve-1.9.0\n"
          ],
          "name": "stdout"
        }
      ]
    },
    {
      "cell_type": "code",
      "metadata": {
        "id": "6461gpfCXyD1"
      },
      "source": [
        "## import our custom modules\n",
        "\n",
        "import sys\n",
        "sys.path.append('/content/gdrive/My Drive/EscapeEarthData/')\n",
        "import OpenAndPlot as op"
      ],
      "execution_count": null,
      "outputs": []
    },
    {
      "cell_type": "code",
      "metadata": {
        "colab": {
          "base_uri": "https://localhost:8080/",
          "height": 419
        },
        "id": "SR_pIm8-Xx2h",
        "outputId": "6e3d1b23-a96d-496c-d47f-08c7729f430a"
      },
      "source": [
        "## get target info\n",
        "\n",
        "target_list14 =  pd.read_csv('/content/gdrive/My Drive/EscapeEarthData/all_targets_S014_v1.csv',skiprows=5) #from sector 14\n",
        "target_list14"
      ],
      "execution_count": null,
      "outputs": [
        {
          "output_type": "execute_result",
          "data": {
            "text/html": [
              "<div>\n",
              "<style scoped>\n",
              "    .dataframe tbody tr th:only-of-type {\n",
              "        vertical-align: middle;\n",
              "    }\n",
              "\n",
              "    .dataframe tbody tr th {\n",
              "        vertical-align: top;\n",
              "    }\n",
              "\n",
              "    .dataframe thead th {\n",
              "        text-align: right;\n",
              "    }\n",
              "</style>\n",
              "<table border=\"1\" class=\"dataframe\">\n",
              "  <thead>\n",
              "    <tr style=\"text-align: right;\">\n",
              "      <th></th>\n",
              "      <th>TICID</th>\n",
              "      <th>Camera</th>\n",
              "      <th>CCD</th>\n",
              "      <th>Tmag</th>\n",
              "      <th>RA</th>\n",
              "      <th>Dec</th>\n",
              "    </tr>\n",
              "  </thead>\n",
              "  <tbody>\n",
              "    <tr>\n",
              "      <th>0</th>\n",
              "      <td>7582594</td>\n",
              "      <td>2</td>\n",
              "      <td>3</td>\n",
              "      <td>8.57</td>\n",
              "      <td>272.3966</td>\n",
              "      <td>45.8308</td>\n",
              "    </tr>\n",
              "    <tr>\n",
              "      <th>1</th>\n",
              "      <td>7582633</td>\n",
              "      <td>2</td>\n",
              "      <td>3</td>\n",
              "      <td>9.92</td>\n",
              "      <td>272.3288</td>\n",
              "      <td>45.9244</td>\n",
              "    </tr>\n",
              "    <tr>\n",
              "      <th>2</th>\n",
              "      <td>7582634</td>\n",
              "      <td>2</td>\n",
              "      <td>3</td>\n",
              "      <td>10.48</td>\n",
              "      <td>272.3307</td>\n",
              "      <td>45.9255</td>\n",
              "    </tr>\n",
              "    <tr>\n",
              "      <th>3</th>\n",
              "      <td>7583285</td>\n",
              "      <td>2</td>\n",
              "      <td>2</td>\n",
              "      <td>11.30</td>\n",
              "      <td>272.3711</td>\n",
              "      <td>47.2259</td>\n",
              "    </tr>\n",
              "    <tr>\n",
              "      <th>4</th>\n",
              "      <td>7584049</td>\n",
              "      <td>2</td>\n",
              "      <td>2</td>\n",
              "      <td>8.50</td>\n",
              "      <td>272.5282</td>\n",
              "      <td>47.0887</td>\n",
              "    </tr>\n",
              "    <tr>\n",
              "      <th>...</th>\n",
              "      <td>...</td>\n",
              "      <td>...</td>\n",
              "      <td>...</td>\n",
              "      <td>...</td>\n",
              "      <td>...</td>\n",
              "      <td>...</td>\n",
              "    </tr>\n",
              "    <tr>\n",
              "      <th>19995</th>\n",
              "      <td>1980752885</td>\n",
              "      <td>2</td>\n",
              "      <td>1</td>\n",
              "      <td>16.91</td>\n",
              "      <td>303.1632</td>\n",
              "      <td>60.2862</td>\n",
              "    </tr>\n",
              "    <tr>\n",
              "      <th>19996</th>\n",
              "      <td>1980968952</td>\n",
              "      <td>2</td>\n",
              "      <td>1</td>\n",
              "      <td>8.65</td>\n",
              "      <td>301.3995</td>\n",
              "      <td>63.7061</td>\n",
              "    </tr>\n",
              "    <tr>\n",
              "      <th>19997</th>\n",
              "      <td>1980968953</td>\n",
              "      <td>2</td>\n",
              "      <td>1</td>\n",
              "      <td>8.76</td>\n",
              "      <td>301.3993</td>\n",
              "      <td>63.7056</td>\n",
              "    </tr>\n",
              "    <tr>\n",
              "      <th>19998</th>\n",
              "      <td>1981207128</td>\n",
              "      <td>2</td>\n",
              "      <td>1</td>\n",
              "      <td>7.88</td>\n",
              "      <td>300.4913</td>\n",
              "      <td>65.8903</td>\n",
              "    </tr>\n",
              "    <tr>\n",
              "      <th>19999</th>\n",
              "      <td>1981303680</td>\n",
              "      <td>3</td>\n",
              "      <td>2</td>\n",
              "      <td>8.20</td>\n",
              "      <td>300.3917</td>\n",
              "      <td>70.4546</td>\n",
              "    </tr>\n",
              "  </tbody>\n",
              "</table>\n",
              "<p>20000 rows × 6 columns</p>\n",
              "</div>"
            ],
            "text/plain": [
              "            TICID   Camera   CCD   Tmag        RA      Dec\n",
              "0         7582594        2     3   8.57  272.3966  45.8308\n",
              "1         7582633        2     3   9.92  272.3288  45.9244\n",
              "2         7582634        2     3  10.48  272.3307  45.9255\n",
              "3         7583285        2     2  11.30  272.3711  47.2259\n",
              "4         7584049        2     2   8.50  272.5282  47.0887\n",
              "...           ...      ...   ...    ...       ...      ...\n",
              "19995  1980752885        2     1  16.91  303.1632  60.2862\n",
              "19996  1980968952        2     1   8.65  301.3995  63.7061\n",
              "19997  1980968953        2     1   8.76  301.3993  63.7056\n",
              "19998  1981207128        2     1   7.88  300.4913  65.8903\n",
              "19999  1981303680        3     2   8.20  300.3917  70.4546\n",
              "\n",
              "[20000 rows x 6 columns]"
            ]
          },
          "metadata": {
            "tags": []
          },
          "execution_count": 5
        }
      ]
    },
    {
      "cell_type": "markdown",
      "metadata": {
        "id": "LsgUC9-MMPkx"
      },
      "source": [
        "# Initiate our custom class\n",
        "\n",
        "\n",
        "---\n",
        "\n",
        "\n",
        "\n",
        "---\n",
        "\n"
      ]
    },
    {
      "cell_type": "code",
      "metadata": {
        "colab": {
          "base_uri": "https://localhost:8080/"
        },
        "id": "XzUGj6lKZA44",
        "outputId": "cc7576a9-b04f-49d4-eedd-741203a4e7b7"
      },
      "source": [
        "## start using our custom class\n",
        "\n",
        "#format our target info for the class\n",
        "target_id = 7582633 \n",
        "target_sector = 14\n",
        "first_star = [target_id,target_sector]\n",
        "\n",
        "#initiate a class with our data\n",
        "first_target = op.OpenAndPlot(first_star)\n",
        "\n",
        "#check class representation of target\n",
        "print( first_target, '\\n', type(first_target) ) "
      ],
      "execution_count": null,
      "outputs": [
        {
          "output_type": "stream",
          "text": [
            "TIC: 7582633 \n",
            " <class 'OpenAndPlot.OpenAndPlot'>\n"
          ],
          "name": "stdout"
        }
      ]
    },
    {
      "cell_type": "markdown",
      "metadata": {
        "id": "hK-R46naMVIf"
      },
      "source": [
        "# Test custom class attributes"
      ]
    },
    {
      "cell_type": "code",
      "metadata": {
        "colab": {
          "base_uri": "https://localhost:8080/"
        },
        "id": "EO10zF2_aRtO",
        "outputId": "7203f1bf-206d-43f0-e42f-1dada32438af"
      },
      "source": [
        "## test a few class attributes\n",
        "\n",
        "first_target.targetid, first_target.sector #,first_target.telescope"
      ],
      "execution_count": null,
      "outputs": [
        {
          "output_type": "execute_result",
          "data": {
            "text/plain": [
              "(7582633, 14)"
            ]
          },
          "metadata": {
            "tags": []
          },
          "execution_count": 7
        }
      ]
    },
    {
      "cell_type": "markdown",
      "metadata": {
        "id": "vRooYgUMMYyZ"
      },
      "source": [
        "# Test custom class methods"
      ]
    },
    {
      "cell_type": "code",
      "metadata": {
        "id": "ZBi4LuNAAz_1"
      },
      "source": [
        "# from astropy import units as u\n",
        "# #fluxunit = u.erg / (u.cm ** 2 * u.s)\n",
        "\n",
        "# def open_clean_lc(sector, targetid):\n",
        "#         try:\n",
        "#             lc_file = lk.read('/content/gdrive/My Drive/EscapeEarthData/Sec{}_cleaned/{}/lc.fits'.format(sector,targetid))\n",
        "#             #lc = lc_file\n",
        "#             fluxunit = u.erg / (u.cm ** 2 * u.s)\n",
        "#             #print(lc_file.flux.to(u.m))\n",
        "#             flux = lc_file.flux.value*fluxunit \n",
        "#             time = lc_file.time\n",
        "#             flux_err = lc_file.flux_err.value*fluxunit\n",
        "#             #lc = [flux,time,flux_err]\n",
        "#             lc = lk.LightCurve(flux=flux, time=time, flux_err=flux_err)\n",
        "#             return lc\n",
        "#         except FileNotFoundError:\n",
        "#             lc = \"None\"\n",
        "#             return lc"
      ],
      "execution_count": null,
      "outputs": []
    },
    {
      "cell_type": "code",
      "metadata": {
        "id": "TbJhjWyGBRGg"
      },
      "source": [
        "# mysector = 14\n",
        "# mytargetid = 7582633\n",
        "# mylc = open_clean_lc(mysector,mytargetid)\n",
        "# mylc"
      ],
      "execution_count": null,
      "outputs": []
    },
    {
      "cell_type": "code",
      "metadata": {
        "colab": {
          "base_uri": "https://localhost:8080/"
        },
        "id": "rXXgSel1aico",
        "outputId": "102f1876-1f53-4fba-e766-1c4f9f11504a"
      },
      "source": [
        "## use custom class methods to open target data\n",
        "\n",
        "lc = first_target.open_clean_lc()\n",
        "print( lc, '\\n', type(lc) ) "
      ],
      "execution_count": null,
      "outputs": [
        {
          "output_type": "stream",
          "text": [
            "TessLightCurve(TICID: None) \n",
            " <class 'lightkurve.lightcurve.TessLightCurve'>\n"
          ],
          "name": "stdout"
        }
      ]
    },
    {
      "cell_type": "markdown",
      "metadata": {
        "id": "qwJ5t5lwLHAN"
      },
      "source": [
        "Notice the above object type that prints is a lightkurve class object - specifically a TessLightCurve object within the LightKurve class library. Let's get sidetracked to explore that in the next cell"
      ]
    },
    {
      "cell_type": "code",
      "metadata": {
        "colab": {
          "base_uri": "https://localhost:8080/"
        },
        "id": "S98sjs2TgdCH",
        "outputId": "8b3f58fd-0aa9-40d6-ea75-817b91e9f860"
      },
      "source": [
        "## check lightKurve class attributes\n",
        "\n",
        "print( 'Flux array:', lc.flux, '\\nTime array:', lc.time )\n",
        "\n",
        "lc.scatter();"
      ],
      "execution_count": null,
      "outputs": [
        {
          "output_type": "stream",
          "text": [
            "Flux array: [16627.549 16620.307 16624.457 ... 16657.322 16679.496 16668.094] \n",
            "Time array: [1683.35583852 1683.35722739 1683.35861626 ... 1707.64703174 1707.6484206\n",
            " 1707.64980946]\n"
          ],
          "name": "stdout"
        }
      ]
    },
    {
      "cell_type": "code",
      "metadata": {
        "colab": {
          "base_uri": "https://localhost:8080/"
        },
        "id": "AzZZA_lNF82Q",
        "outputId": "c3dc9d45-a38b-4f14-c5e1-0b89623d8cd3"
      },
      "source": [
        "## test another custom class method to open data\n",
        "\n",
        "first_data = first_target.open_lc(stage='clean') #opens data with our function\n",
        "\n",
        "print( first_data, '\\nFlux array:', first_data.flux, '\\nTime array:', first_data.time ) #use lk class attributes to explore data"
      ],
      "execution_count": null,
      "outputs": [
        {
          "output_type": "stream",
          "text": [
            "       time              flux           flux_err     \n",
            "                                         counts      \n",
            "------------------ --------------- ------------------\n",
            "  1683.35583852423 16627.548828125 26.509939193725586\n",
            "1683.3572273905243 16620.306640625 26.613557815551758\n",
            "1683.3586162567026  16624.45703125 26.502946853637695\n",
            "1683.3600051229964   16618.5546875     26.49072265625\n",
            "  1683.36139398929 16655.849609375  26.48244857788086\n",
            "1683.3627828554681 16608.607421875 26.493762969970703\n",
            "1683.3641717217624    16617.703125 26.571216583251953\n",
            "1683.3655605879408 16660.416015625  26.46108627319336\n",
            "1683.3669494541186    16682.953125 26.486087799072266\n",
            "1683.3683383204125   16634.0234375 26.488576889038086\n",
            "               ...             ...                ...\n",
            "1707.6373097413953 16685.935546875 29.472978591918945\n",
            "1707.6386985986087        16630.25 29.486238479614258\n",
            "1707.6400874558221 16655.478515625 29.494964599609375\n",
            "1707.6414763131527 16697.958984375 29.462671279907227\n",
            "1707.6428651703673  16667.69140625 29.482240676879883\n",
            "1707.6442540275816   16723.9140625  29.47565460205078\n",
            " 1707.645642884795 16673.884765625  29.50998878479004\n",
            "1707.6470317421254 16657.322265625 29.530149459838867\n",
            "1707.6484205993397  16679.49609375 29.550086975097656\n",
            "1707.6498094565532     16668.09375 29.501319885253906\n",
            "Length = 15079 rows \n",
            "Flux array: [16627.549 16620.307 16624.457 ... 16657.322 16679.496 16668.094] \n",
            "Time array: [1683.35583852 1683.35722739 1683.35861626 ... 1707.64703174 1707.6484206\n",
            " 1707.64980946]\n"
          ],
          "name": "stdout"
        }
      ]
    },
    {
      "cell_type": "code",
      "metadata": {
        "id": "zhAPmf6xbka9"
      },
      "source": [
        "## test custom class method to plot cleaned data\n",
        "\n",
        "plot = first_target.plot_cleaned_lc()"
      ],
      "execution_count": null,
      "outputs": []
    },
    {
      "cell_type": "code",
      "metadata": {
        "id": "p2i2NRWJNQbq"
      },
      "source": [
        "## test custom class method to plot raw data\n",
        "\n",
        "first_target.plot_raw_data();"
      ],
      "execution_count": null,
      "outputs": []
    },
    {
      "cell_type": "markdown",
      "metadata": {
        "id": "rrQz2kuXNy2b"
      },
      "source": [
        "\n",
        "# Now try these out yourself with a second target. \n",
        "## Use the target 26489741 from Sector 15\n",
        "\n",
        "\n",
        "---\n",
        "\n",
        "\n",
        "\n",
        "---\n",
        "\n"
      ]
    },
    {
      "cell_type": "code",
      "metadata": {
        "id": "xtQ9ABMKNQWs",
        "colab": {
          "base_uri": "https://localhost:8080/"
        },
        "outputId": "d764d19c-a6ba-4425-b736-4c5e41b37b28"
      },
      "source": [
        "%matplotlib inline\n",
        "#format our target info for the class\n",
        "target2_id = 26489741 \n",
        "target2_sector = 15\n",
        "second_star = [target2_id,target2_sector]\n",
        "\n",
        "#initiate a class with our data\n",
        "second_target = op.OpenAndPlot(second_star)\n",
        "print(second_target,'\\n', type(second_target))"
      ],
      "execution_count": null,
      "outputs": [
        {
          "output_type": "stream",
          "text": [
            "TIC: 26489741 \n",
            " <class 'OpenAndPlot.OpenAndPlot'>\n"
          ],
          "name": "stdout"
        }
      ]
    },
    {
      "cell_type": "code",
      "metadata": {
        "id": "Fb3d7j-cXc80",
        "colab": {
          "base_uri": "https://localhost:8080/"
        },
        "outputId": "d7986f1b-3bfc-493f-d4c0-f06cc8879417"
      },
      "source": [
        "second_target.targetid,second_target.sector"
      ],
      "execution_count": null,
      "outputs": [
        {
          "output_type": "execute_result",
          "data": {
            "text/plain": [
              "(26489741, 15)"
            ]
          },
          "metadata": {
            "tags": []
          },
          "execution_count": 51
        }
      ]
    },
    {
      "cell_type": "code",
      "metadata": {
        "colab": {
          "base_uri": "https://localhost:8080/",
          "height": 449
        },
        "id": "quSVaRX4wX7f",
        "outputId": "c4dac290-e2ba-4c77-bb7c-f153a84ee6e1"
      },
      "source": [
        "%matplotlib inline \n",
        "#if the graph needs to show use ^\n",
        "\n",
        "lc2 = second_target.open_clean_lc()\n",
        "\n",
        "print( 'Flux array:', lc2.flux, '\\nTime array:', lc2.time )\n",
        "\n",
        "lc2.scatter()"
      ],
      "execution_count": null,
      "outputs": [
        {
          "output_type": "stream",
          "text": [
            "Flux array: [276430.78 276441.06 276290.2  ... 274605.38 274522.56 274482.7 ] \n",
            "Time array: [1711.36696444 1711.36835332 1711.3697422  ... 1737.40830615 1737.40969502\n",
            " 1737.41108389]\n"
          ],
          "name": "stdout"
        },
        {
          "output_type": "execute_result",
          "data": {
            "text/plain": [
              "<matplotlib.axes._subplots.AxesSubplot at 0x7f1374ea8d50>"
            ]
          },
          "metadata": {
            "tags": []
          },
          "execution_count": 87
        },
        {
          "output_type": "display_data",
          "data": {
            "image/png": "[encoded data removed]",
            "text/plain": [
              "<Figure size 848.5x400 with 1 Axes>"
            ]
          },
          "metadata": {
            "tags": []
          }
        }
      ]
    },
    {
      "cell_type": "code",
      "metadata": {
        "colab": {
          "base_uri": "https://localhost:8080/"
        },
        "id": "v9FGivrrw6Yp",
        "outputId": "b441b39e-d7bc-47e8-c551-c5884eae4459"
      },
      "source": [
        "second_data = second_target.open_lc(stage='clean')\n",
        "\n",
        "print( second_data, '\\nFlux array:', second_data.flux, '\\nTime array:', second_data.time )"
      ],
      "execution_count": null,
      "outputs": [
        {
          "output_type": "stream",
          "text": [
            "TessLightCurve(TICID: None) \n",
            "Flux array: [276430.78 276441.06 276290.2  ... 274605.38 274522.56 274482.7 ] \n",
            "Time array: [1711.36696444 1711.36835332 1711.3697422  ... 1737.40830615 1737.40969502\n",
            " 1737.41108389]\n"
          ],
          "name": "stdout"
        }
      ]
    },
    {
      "cell_type": "code",
      "metadata": {
        "colab": {
          "base_uri": "https://localhost:8080/",
          "height": 398
        },
        "id": "oUnVsNvWzNse",
        "outputId": "6f65a771-622b-4f3c-bb74-eb7ec5964beb"
      },
      "source": [
        "%matplotlib inline\n",
        "#seco\n",
        "second_target.plot_raw_data()"
      ],
      "execution_count": null,
      "outputs": [
        {
          "output_type": "execute_result",
          "data": {
            "text/plain": [
              "<matplotlib.axes._subplots.AxesSubplot at 0x7f1374d7b9d0>"
            ]
          },
          "metadata": {
            "tags": []
          },
          "execution_count": 57
        },
        {
          "output_type": "display_data",
          "data": {
            "image/png": "[encoded data removed]",
            "text/plain": [
              "<Figure size 848.5x400 with 1 Axes>"
            ]
          },
          "metadata": {
            "tags": []
          }
        }
      ]
    },
    {
      "cell_type": "markdown",
      "metadata": {
        "id": "JewEowmS_oog"
      },
      "source": [
        "#Testing BLS Function\n"
      ]
    },
    {
      "cell_type": "code",
      "metadata": {
        "id": "mYYug-jR_yVW"
      },
      "source": [
        "def periods(N=1000):\n",
        "  period=np.logspace(-0.523, 1.43, N, endpoint=True)\n",
        "  return period"
      ],
      "execution_count": null,
      "outputs": []
    },
    {
      "cell_type": "code",
      "metadata": {
        "id": "UJarR8Ny_ydd"
      },
      "source": [
        "def duration_grid(N=10):\n",
        "  duration=np.linspace(.01, 0.298, N)\n",
        "  return duration"
      ],
      "execution_count": null,
      "outputs": []
    },
    {
      "cell_type": "code",
      "metadata": {
        "id": "ODUIccIP__tW"
      },
      "source": [
        "def flatten (lc):\n",
        "  '''\n",
        "  inputs: cleaned lightkurve data\n",
        "  output: flattened time and flux data\n",
        "  function: takes in lightkurve data and flattens the time and flux\n",
        "  '''\n",
        "  lc_flat = lc.flatten()\n",
        "  flat_time = lc_flat.time - lc_flat.time[0]\n",
        "  return lc_flat, flat_time\n",
        "  "
      ],
      "execution_count": null,
      "outputs": []
    },
    {
      "cell_type": "code",
      "metadata": {
        "id": "Meuf62fZzURU"
      },
      "source": [
        "def BLS(periodgrid,lightcurve,flat_time,durationgrid):\n",
        "  from astropy.timeseries import BoxLeastSquares\n",
        "\n",
        "  '''\n",
        "  Purppose\n",
        "  ------------------\n",
        "  A Box Least Squares function to print out the compute stats of the periodogram.\n",
        "  \n",
        "  Parameters\n",
        "  -------------------\n",
        "  period grid            - describes how often the transit is happening (arrays different value)\n",
        "  duration grid          - describes the width of the transit (array of different values)\n",
        "  lightcurve             - lightkurve class object\n",
        "  \n",
        "  Returns \n",
        "  list of stats in the following order: period, duration, transit-time, power, depth\n",
        "  ------------------\n",
        "  Calculate several statistics of a candidate transit.\n",
        "  '''\n",
        "  #assigning parameters to variables\n",
        "  period = periodgrid\n",
        "  duration = durationgrid\n",
        "  lc = lightcurve \n",
        "  \n",
        "  #t = timestamps\n",
        "  #y = observations\n",
        "  t = flat_time #time\n",
        "  y = lc.flux #flux\n",
        "\n",
        "  #dy is the uncertianty\n",
        "  model = BoxLeastSquares(t, y, dy= lc.flux_err) \n",
        "  periodogram = model.power(period,duration) \n",
        "  max_power = np.argmax(periodogram.power)\n",
        "  \n",
        "  #calculates the max stats w/in the transit\n",
        "  stats = [periodogram.period[max_power],\n",
        "          periodogram.duration[max_power],\n",
        "          periodogram.transit_time[max_power],\n",
        "           max_power,\n",
        "           periodogram.depth[max_power]]\n",
        "  \n",
        "  #stats is the one peak, periodogram is the array\n",
        "  return stats"
      ],
      "execution_count": null,
      "outputs": []
    },
    {
      "cell_type": "code",
      "metadata": {
        "id": "kUZZBh0PAtp0",
        "colab": {
          "base_uri": "https://localhost:8080/"
        },
        "outputId": "c7f638f5-2402-4a56-ea57-6afd6aeefdfc"
      },
      "source": [
        "target2_id = 26489741 \n",
        "target2_sector = 15\n",
        "second_star = [target2_id,target2_sector]\n",
        "\n",
        "#open data\n",
        "second_target = op.OpenAndPlot(second_star)\n",
        "second_lc = second_target.open_lc(stage='clean')\n",
        "type(second_lc)"
      ],
      "execution_count": null,
      "outputs": [
        {
          "output_type": "execute_result",
          "data": {
            "text/plain": [
              "lightkurve.lightcurve.TessLightCurve"
            ]
          },
          "metadata": {
            "tags": []
          },
          "execution_count": 116
        }
      ]
    },
    {
      "cell_type": "code",
      "metadata": {
        "id": "TY-nikkeBBVl"
      },
      "source": [
        "#get inputs for bls\n",
        "pgrid = periods()\n",
        "dgrid = duration_grid()\n",
        "lc = flatten(second_lc)\n"
      ],
      "execution_count": null,
      "outputs": []
    },
    {
      "cell_type": "code",
      "metadata": {
        "colab": {
          "base_uri": "https://localhost:8080/"
        },
        "id": "vu7fWVDIEtb3",
        "outputId": "972f3f49-2564-4e00-c57e-f2bfe5c7a4d7"
      },
      "source": [
        "lc"
      ],
      "execution_count": null,
      "outputs": [
        {
          "output_type": "execute_result",
          "data": {
            "text/plain": [
              "(TessLightCurve(TICID: None),\n",
              " array([0.00000000e+00, 1.38887839e-03, 2.77775678e-03, ...,\n",
              "        2.60413417e+01, 2.60427306e+01, 2.60441195e+01]))"
            ]
          },
          "metadata": {
            "tags": []
          },
          "execution_count": 118
        }
      ]
    },
    {
      "cell_type": "code",
      "metadata": {
        "colab": {
          "base_uri": "https://localhost:8080/"
        },
        "id": "JaCuetfDBX9I",
        "outputId": "ef6728da-fe36-4fd2-817f-b8dd5e7af9be"
      },
      "source": [
        "#test bls function\n",
        "\n",
        "mystats = BLS(pgrid, lc[0], lc[1], dgrid)\n",
        "mystats"
      ],
      "execution_count": null,
      "outputs": [
        {
          "output_type": "execute_result",
          "data": {
            "text/plain": [
              "[2.4655789803104464, 0.234, 1.724, 468, 0.07909614433528643]"
            ]
          },
          "metadata": {
            "tags": []
          },
          "execution_count": 120
        }
      ]
    },
    {
      "cell_type": "code",
      "metadata": {
        "id": "cL39W33eFFmk"
      },
      "source": [
        ""
      ],
      "execution_count": null,
      "outputs": []
    }
  ]
}